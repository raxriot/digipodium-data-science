{
 "cells": [
  {
   "cell_type": "code",
   "execution_count": 19,
   "metadata": {},
   "outputs": [
    {
     "name": "stdout",
     "output_type": "stream",
     "text": [
      "[12, 23, 55]\n",
      "90\n",
      "55\n",
      "12\n",
      "[12, 23, 55]\n",
      "3\n",
      "[55, 23, 12]\n"
     ]
    }
   ],
   "source": [
    "##code writing to show how builtinfunctions work(they work for iterables)\n",
    "x = [12, 23, 55]\n",
    "print (x)\n",
    "print (sum(x)) #should not contain anything else but numbers. \n",
    "print (max(x))\n",
    "print (min(x))\n",
    "print (sorted(x))\n",
    "print (len(x))\n",
    "print (list(reversed(x)))"
   ]
  },
  {
   "cell_type": "code",
   "execution_count": 28,
   "metadata": {},
   "outputs": [
    {
     "name": "stdout",
     "output_type": "stream",
     "text": [
      "['2', '4', '6', '8', '10']\n",
      "[2.0, 4.0, 6.0, 8.0, 10.0]\n",
      "[2.0, 4.0, 6.0, 8.0, 10.0]\n",
      "[4, 256, 46656, 16777216, 10000000000]\n",
      "[4.0, 256.0, 46656.0, 16777216.0, 10000000000.0]\n"
     ]
    }
   ],
   "source": [
    "dy = [2, 4, 6, 8 , 10]\n",
    "print(list(map (str, dy))) #map is basically used for typecasting of iterables\n",
    "print(list(map (float, dy))) #map is basically used for typecasting of iterables\n",
    "exp = [2, 4, 6, 8 , 10]\n",
    "print(list(map (float, exp)))\n",
    "print(list(map (pow,dy, exp)))#dy is base exp is power\n",
    "print(list(map(float, (map (pow,dy, exp)))))\n",
    "\n"
   ]
  },
  {
   "cell_type": "code",
   "execution_count": 35,
   "metadata": {},
   "outputs": [
    {
     "name": "stdout",
     "output_type": "stream",
     "text": [
      "122 333 111 222 432\n"
     ]
    }
   ],
   "source": [
    "data = input ('give 5 num')##.split is used to convert individual strings given through input func into list of stings\n",
    "\n",
    "print (data)"
   ]
  },
  {
   "cell_type": "code",
   "execution_count": 37,
   "metadata": {},
   "outputs": [
    {
     "name": "stdout",
     "output_type": "stream",
     "text": [
      "['122', '333', '111', '222', '432']\n",
      "[122, 333, 111, 222, 432]\n"
     ]
    }
   ],
   "source": [
    "print(data.split())\n",
    "print(list(map(int, data.split())))"
   ]
  },
  {
   "cell_type": "code",
   "execution_count": 40,
   "metadata": {},
   "outputs": [
    {
     "name": "stdout",
     "output_type": "stream",
     "text": [
      "[12, 33, 12, 33]\n"
     ]
    }
   ],
   "source": [
    "print(list(map(int, input ('give 5 num').split())))##competition method to do as fast as possible"
   ]
  },
  {
   "cell_type": "code",
   "execution_count": 42,
   "metadata": {},
   "outputs": [
    {
     "name": "stdout",
     "output_type": "stream",
     "text": [
      "2.3\n"
     ]
    }
   ],
   "source": [
    "print(round(2.33333, 1))##round function round of karne ke lie use hota hai , ke baad waale num ka matlab hai uss decimal place tak roundoff karna\n",
    "##by default aga , ni lagao aur loin num na likho to wo seedha whole num mei ans aaega"
   ]
  },
  {
   "cell_type": "code",
   "execution_count": 46,
   "metadata": {},
   "outputs": [
    {
     "name": "stdout",
     "output_type": "stream",
     "text": [
      "[12, 23, 55, 1122]\n"
     ]
    }
   ],
   "source": [
    "x = [12, 23, 55, 0, 1122]\n",
    "print(list(filter (bool, x)))#filter ko use kara jata uss value ko filter karne ke lie jo func ke first index mei di ho"
   ]
  },
  {
   "cell_type": "code",
   "execution_count": 49,
   "metadata": {},
   "outputs": [
    {
     "name": "stdout",
     "output_type": "stream",
     "text": [
      "False\n",
      "True\n"
     ]
    }
   ],
   "source": [
    "print(all(x))#if all values of iterable are true return true\n",
    "print(any(x))#if any value of iterable is true returns true"
   ]
  },
  {
   "cell_type": "code",
   "execution_count": 67,
   "metadata": {},
   "outputs": [
    {
     "name": "stdout",
     "output_type": "stream",
     "text": [
      "a + b * 3  * 8 *(0)\n"
     ]
    }
   ],
   "source": [
    "##dir aur help hhelpig built in func hain\n",
    "expression = input ('enter an expression')\n",
    "print (expression)"
   ]
  },
  {
   "cell_type": "code",
   "execution_count": 70,
   "metadata": {},
   "outputs": [
    {
     "name": "stdout",
     "output_type": "stream",
     "text": [
      "2\n"
     ]
    }
   ],
   "source": [
    "a = 2\n",
    "b = 5\n",
    "print(eval(expression))\n"
   ]
  },
  {
   "cell_type": "code",
   "execution_count": 72,
   "metadata": {},
   "outputs": [
    {
     "name": "stdout",
     "output_type": "stream",
     "text": [
      "float(x)\n"
     ]
    },
    {
     "data": {
      "text/plain": [
       "10.0"
      ]
     },
     "execution_count": 72,
     "metadata": {},
     "output_type": "execute_result"
    }
   ],
   "source": [
    "x = 10 \n",
    "code = input('what is the code to type cast x into float')\n",
    "print (code)\n",
    "eval(code)"
   ]
  },
  {
   "cell_type": "code",
   "execution_count": 74,
   "metadata": {},
   "outputs": [
    {
     "data": {
      "text/plain": [
       "['2', '4', '6', '8', '10']"
      ]
     },
     "execution_count": 74,
     "metadata": {},
     "output_type": "execute_result"
    }
   ],
   "source": [
    "dy = [2, 4, 6, 8 , 10]\n",
    "task = 'list(map (str, dy))'\n",
    "eval(task)"
   ]
  },
  {
   "cell_type": "code",
   "execution_count": 78,
   "metadata": {},
   "outputs": [
    {
     "name": "stdout",
     "output_type": "stream",
     "text": [
      "from turtle import *\n",
      "speed('slowest')\n",
      "fd(150)#forward\n",
      "rt(60)\n",
      "fd(150)#forward\n",
      "rt(60)\n",
      "fd(150)#forward\n",
      "rt(60)\n",
      "fd(150)#forward\n",
      "rt(60)\n",
      "fd(150)#forward\n",
      "rt(60)\n",
      "fd(150)#forward\n",
      "rt(60)\n",
      "fd(150)#forward\n",
      "rt(60)\n",
      "for i in range(10):\n",
      "    \n",
      "\n",
      "mainloop()#this is used to hold the window\n"
     ]
    }
   ],
   "source": [
    "print(open('t1.py').read())##converts file into read form open ek expression ki file ko kese kholna hai"
   ]
  },
  {
   "cell_type": "code",
   "execution_count": 82,
   "metadata": {},
   "outputs": [
    {
     "data": {
      "text/plain": [
       "11"
      ]
     },
     "execution_count": 82,
     "metadata": {},
     "output_type": "execute_result"
    }
   ],
   "source": [
    "open('file.txt', 'w').write('hello world') #w use hota hai edit ke lie write use hota hai txt file mei comment daalne ke lie(ye sirf ek hi line ka editor hai)"
   ]
  },
  {
   "cell_type": "code",
   "execution_count": 1,
   "metadata": {},
   "outputs": [
    {
     "data": {
      "text/plain": [
       "9"
      ]
     },
     "execution_count": 1,
     "metadata": {},
     "output_type": "execute_result"
    }
   ],
   "source": [
    "open('file.txt', 'a').write('\\n nothing')## a use hota hai wahi txt file mei aur comments add karne ke lie"
   ]
  }
 ],
 "metadata": {
  "kernelspec": {
   "display_name": "base",
   "language": "python",
   "name": "python3"
  },
  "language_info": {
   "codemirror_mode": {
    "name": "ipython",
    "version": 3
   },
   "file_extension": ".py",
   "mimetype": "text/x-python",
   "name": "python",
   "nbconvert_exporter": "python",
   "pygments_lexer": "ipython3",
   "version": "3.10.10"
  },
  "orig_nbformat": 4
 },
 "nbformat": 4,
 "nbformat_minor": 2
}
