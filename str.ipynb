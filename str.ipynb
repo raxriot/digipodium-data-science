{
 "cells": [
  {
   "cell_type": "code",
   "execution_count": 2,
   "metadata": {},
   "outputs": [],
   "source": [
    "a = 'apple'\n",
    "name = \"bb\"\n",
    "address = '''diuhwue#multi lin\n",
    "wejwehf'''\n",
    "addr = r'C:\\Users\\raxriot\\Documents\\Assassin'#s Creed Revelation'"
   ]
  },
  {
   "cell_type": "code",
   "execution_count": 3,
   "metadata": {},
   "outputs": [
    {
     "data": {
      "text/plain": [
       "'a'"
      ]
     },
     "execution_count": 3,
     "metadata": {},
     "output_type": "execute_result"
    }
   ],
   "source": [
    "##indexing\n",
    "a [0]#strings are immutable\n"
   ]
  },
  {
   "cell_type": "code",
   "execution_count": 4,
   "metadata": {},
   "outputs": [
    {
     "name": "stdout",
     "output_type": "stream",
     "text": [
      "0 a\n",
      "1 p\n",
      "2 p\n",
      "3 l\n",
      "4 e\n"
     ]
    }
   ],
   "source": [
    "for i, c in enumerate(a):\n",
    "    print(i, c)"
   ]
  },
  {
   "cell_type": "code",
   "execution_count": 5,
   "metadata": {},
   "outputs": [
    {
     "name": "stdout",
     "output_type": "stream",
     "text": [
      "e l p p a\n"
     ]
    }
   ],
   "source": [
    "print(a[-1],a[-2],a[-3],a[-4],a[-5], )"
   ]
  },
  {
   "cell_type": "code",
   "execution_count": 6,
   "metadata": {},
   "outputs": [
    {
     "name": "stdout",
     "output_type": "stream",
     "text": [
      "shake\n",
      "will\n",
      "sper\n",
      "spere\n"
     ]
    }
   ],
   "source": [
    "#alicing\n",
    "name = 'william shakespere'\n",
    "print(name[8:13]) #starting index to ast index dedega\n",
    "print(name[:4])#staring is zero therefore no start index\n",
    "print(name[-5:-1])\n",
    "print(name[-5:])"
   ]
  },
  {
   "cell_type": "code",
   "execution_count": 7,
   "metadata": {},
   "outputs": [
    {
     "name": "stdout",
     "output_type": "stream",
     "text": [
      "william\n",
      "shakespere\n"
     ]
    }
   ],
   "source": [
    "print(name[:7])\n",
    "print(name [8:])"
   ]
  },
  {
   "cell_type": "markdown",
   "metadata": {},
   "source": [
    "syntax\n",
    "  var[start : stop ; step(gap)]"
   ]
  },
  {
   "cell_type": "code",
   "execution_count": 19,
   "metadata": {},
   "outputs": [
    {
     "name": "stdout",
     "output_type": "stream",
     "text": [
      "wlimsaepr\n",
      "erepsekahs mailliw\n"
     ]
    }
   ],
   "source": [
    "print(name[::2])#iska matlab ye hota ai ki index skip ho jaenge jo bhi num doge\n",
    "print(name[::-1])#string reverse ke lie ye use karo\n"
   ]
  },
  {
   "cell_type": "code",
   "execution_count": 9,
   "metadata": {},
   "outputs": [],
   "source": [
    "msg = \"i am good😂😂😂😂😂😂😂😂😂😂😂😂😂😂😂😂\""
   ]
  },
  {
   "cell_type": "code",
   "execution_count": 10,
   "metadata": {},
   "outputs": [
    {
     "name": "stdout",
     "output_type": "stream",
     "text": [
      "I AM GOOD😂😂😂😂😂😂😂😂😂😂😂😂😂😂😂😂\n",
      "i am good😂😂😂😂😂😂😂😂😂😂😂😂😂😂😂😂\n",
      "I Am Good😂😂😂😂😂😂😂😂😂😂😂😂😂😂😂😂\n",
      "I am good😂😂😂😂😂😂😂😂😂😂😂😂😂😂😂😂\n",
      "I AM GOOD😂😂😂😂😂😂😂😂😂😂😂😂😂😂😂😂\n",
      "False\n",
      "True\n",
      "False\n",
      "True\n",
      "True\n",
      "True\n",
      "True\n"
     ]
    }
   ],
   "source": [
    "print(msg.upper())\n",
    "print(msg.lower())\n",
    "print(msg.title())##poore msg mei pehla wala sirf capital ho jata\n",
    "print(msg.capitalize())\n",
    "print(msg.swapcase())\n",
    "print(msg.isupper())\n",
    "print(msg.islower())\n",
    "print('123'.isalpha())\n",
    "print('123'.isnumeric())\n",
    "print('hello'.isalpha())#space dedenge to false ho jaega\n",
    "print('123'.isnumeric())\n",
    "print('aaa123'.isalnum())\n"
   ]
  },
  {
   "cell_type": "code",
   "execution_count": 11,
   "metadata": {},
   "outputs": [
    {
     "name": "stdout",
     "output_type": "stream",
     "text": [
      "True\n",
      "False\n",
      "False\n"
     ]
    }
   ],
   "source": [
    "print('mr. raja'.startswith('mr'))#case sensetive\n",
    "print('raja'.startswith('mr'))\n",
    "print('raja'.endswith('mr'))"
   ]
  },
  {
   "cell_type": "code",
   "execution_count": 12,
   "metadata": {},
   "outputs": [
    {
     "name": "stdout",
     "output_type": "stream",
     "text": [
      "kuch aur dedia\n",
      "kya kar re ho apni zindagi ke sath, mar jaao😒😒😒😒😒😒😒😒\n"
     ]
    }
   ],
   "source": [
    "file = input('input a file')\n",
    "if file.endswith('.py'):\n",
    "    print('python file')\n",
    "    content = open(file).read()\n",
    "    print(content)\n",
    "else:\n",
    "    print('kuch aur dedia')\n",
    "    print('kya kar re ho apni zindagi ke sath, mar jaao😒😒😒😒😒😒😒😒')"
   ]
  },
  {
   "cell_type": "markdown",
   "metadata": {},
   "source": [
    "##utility\n",
    "find()\n",
    "replace()\n",
    "split()\n",
    "splitlines()\n",
    "join()\n",
    "count()\n",
    "strip()"
   ]
  },
  {
   "cell_type": "code",
   "execution_count": 13,
   "metadata": {},
   "outputs": [
    {
     "data": {
      "text/plain": [
       "'we went too fbr into thinking bnd forgot destinies bre written'"
      ]
     },
     "execution_count": 13,
     "metadata": {},
     "output_type": "execute_result"
    }
   ],
   "source": [
    "quote = 'we went too far into thinking and forgot destinies are written'#agar koi word bhi search karoge to sirf uss word ka pehla index milega\n",
    "quote.find('are')#-1 tab deta jab wo word na ho\n",
    "quote.replace('a', 'b')"
   ]
  },
  {
   "cell_type": "code",
   "execution_count": 14,
   "metadata": {},
   "outputs": [
    {
     "data": {
      "text/plain": [
       "'299999'"
      ]
     },
     "execution_count": 14,
     "metadata": {},
     "output_type": "execute_result"
    }
   ],
   "source": [
    "amt = '$299,999 dollars'\n",
    "amt.replace('$', '').replace(',', '').replace('dollars', '').replace(' ', '')\n"
   ]
  },
  {
   "cell_type": "code",
   "execution_count": 15,
   "metadata": {},
   "outputs": [
    {
     "name": "stdout",
     "output_type": "stream",
     "text": [
      "['i', 'am', 'good😂😂😂😂😂😂😂😂😂😂😂😂😂😂😂😂']\n"
     ]
    }
   ],
   "source": [
    "print(msg.split())#spaces(delimiter) ke base mei divide karta hai by default"
   ]
  },
  {
   "cell_type": "code",
   "execution_count": 16,
   "metadata": {},
   "outputs": [
    {
     "name": "stdout",
     "output_type": "stream",
     "text": [
      "['we are here', ' we are there', ' we are everywhere']\n"
     ]
    }
   ],
   "source": [
    "msg2 = 'we are here, we are there, we are everywhere'\n",
    "print (msg2.split(','))"
   ]
  },
  {
   "cell_type": "code",
   "execution_count": 17,
   "metadata": {},
   "outputs": [
    {
     "data": {
      "text/plain": [
       "['mera',\n",
       " 'haal',\n",
       " 'behaal',\n",
       " 'mei',\n",
       " 'hu',\n",
       " 'pagal',\n",
       " 'mamta',\n",
       " 'kya',\n",
       " 'badhiya',\n",
       " 'insaan',\n",
       " 'hai',\n",
       " 'na',\n",
       " 'mard',\n",
       " 'ek',\n",
       " 'mard',\n",
       " 'ni',\n",
       " 'ho',\n",
       " 'sakta',\n",
       " 'same',\n",
       " 'goes',\n",
       " 'for',\n",
       " 'aurat',\n",
       " 'itne',\n",
       " 'gande',\n",
       " 'outputs',\n",
       " 'doge',\n",
       " 'to',\n",
       " 'pagal',\n",
       " 'ho',\n",
       " 'jaoge']"
      ]
     },
     "execution_count": 17,
     "metadata": {},
     "output_type": "execute_result"
    }
   ],
   "source": [
    "poem = '''mera haal behaal \n",
    "mei hu pagal\n",
    "mamta kya badhiya insaan hai\n",
    "na mard ek mard ni ho sakta\n",
    "same goes for aurat\n",
    "itne gande outputs doge \n",
    "to pagal ho jaoge\n",
    "'''\n",
    "poem.split()"
   ]
  },
  {
   "cell_type": "code",
   "execution_count": 18,
   "metadata": {},
   "outputs": [
    {
     "data": {
      "text/plain": [
       "['mera haal behaal ',\n",
       " 'mei hu pagal',\n",
       " 'mamta kya badhiya insaan hai',\n",
       " 'na mard ek mard ni ho sakta',\n",
       " 'same goes for aurat',\n",
       " 'itne gande outputs doge ',\n",
       " 'to pagal ho jaoge']"
      ]
     },
     "execution_count": 18,
     "metadata": {},
     "output_type": "execute_result"
    }
   ],
   "source": [
    "poem.splitlines()"
   ]
  }
 ],
 "metadata": {
  "kernelspec": {
   "display_name": "base",
   "language": "python",
   "name": "python3"
  },
  "language_info": {
   "codemirror_mode": {
    "name": "ipython",
    "version": 3
   },
   "file_extension": ".py",
   "mimetype": "text/x-python",
   "name": "python",
   "nbconvert_exporter": "python",
   "pygments_lexer": "ipython3",
   "version": "3.10.10"
  },
  "orig_nbformat": 4
 },
 "nbformat": 4,
 "nbformat_minor": 2
}
