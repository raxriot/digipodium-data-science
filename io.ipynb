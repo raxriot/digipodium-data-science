{
 "cells": [
  {
   "cell_type": "code",
   "execution_count": 2,
   "metadata": {},
   "outputs": [],
   "source": [
    "name  = input(\"enter your name:\") #brackets ke andar prompt de sakte hai agar chaho\n",
    "city = input(\"enter your city:\")\n",
    "#input takes all datatypes in str it can be converted into another data type by using typecast"
   ]
  },
  {
   "cell_type": "code",
   "execution_count": 3,
   "metadata": {},
   "outputs": [],
   "source": [
    "age = input(\"age?\")"
   ]
  },
  {
   "cell_type": "code",
   "execution_count": 6,
   "metadata": {},
   "outputs": [],
   "source": [
    "a = '900' #this is typecasting \n",
    "anum = int(a)\n",
    "#typecasting values = int , float, bool , str, dict, set, tuple, list"
   ]
  },
  {
   "cell_type": "code",
   "execution_count": 8,
   "metadata": {},
   "outputs": [],
   "source": [
    "x = int (input(\"num\"))\n",
    "y = int (input(\"num\"))\n",
    "z = x+y"
   ]
  },
  {
   "cell_type": "code",
   "execution_count": null,
   "metadata": {},
   "outputs": [],
   "source": [
    "p= int (input(\"principal?\"))\n",
    "r = int (input(\"rate?\"))\n",
    "t = int  (input(\"time?\"))\n",
    "si = (p*r*t)/100       "
   ]
  }
 ],
 "metadata": {
  "kernelspec": {
   "display_name": "base",
   "language": "python",
   "name": "python3"
  },
  "language_info": {
   "codemirror_mode": {
    "name": "ipython",
    "version": 3
   },
   "file_extension": ".py",
   "mimetype": "text/x-python",
   "name": "python",
   "nbconvert_exporter": "python",
   "pygments_lexer": "ipython3",
   "version": "3.10.10"
  },
  "orig_nbformat": 4
 },
 "nbformat": 4,
 "nbformat_minor": 2
}
