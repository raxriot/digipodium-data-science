{
 "cells": [
  {
   "cell_type": "code",
   "execution_count": 1,
   "metadata": {},
   "outputs": [],
   "source": [
    "name  = input(\"enter your name:\") #brackets ke andar prompt de sakte hai agar chaho\n",
    "city = input(\"enter your city:\")\n",
    "#input takes all datatypes in str it can be converted into another data type by using typecast"
   ]
  },
  {
   "cell_type": "code",
   "execution_count": 2,
   "metadata": {},
   "outputs": [],
   "source": [
    "age = input(\"age?\")"
   ]
  },
  {
   "cell_type": "code",
   "execution_count": 3,
   "metadata": {},
   "outputs": [],
   "source": [
    "a = '900' #this is typecasting \n",
    "anum = int(a)\n",
    "#typecasting values = int , float, bool , str, dict, set, tuple, list"
   ]
  },
  {
   "cell_type": "code",
   "execution_count": 4,
   "metadata": {},
   "outputs": [],
   "source": [
    "x = int (input(\"num\"))\n",
    "y = int (input(\"num\"))\n",
    "z = x+y"
   ]
  },
  {
   "cell_type": "code",
   "execution_count": 7,
   "metadata": {},
   "outputs": [
    {
     "name": "stdout",
     "output_type": "stream",
     "text": [
      "200.0\n"
     ]
    }
   ],
   "source": [
    "p= int (input(\"principal?\"))\n",
    "r = int (input(\"rate?\"))\n",
    "t = int  (input(\"time?\"))\n",
    "si = (p*r*t)/100   \n",
    "print(si)    "
   ]
  },
  {
   "cell_type": "code",
   "execution_count": 10,
   "metadata": {},
   "outputs": [
    {
     "name": "stdout",
     "output_type": "stream",
     "text": [
      "78 90\n",
      "lalal 78 90\n"
     ]
    }
   ],
   "source": [
    "print(x,y)\n",
    "print ('lalal',x ,y)"
   ]
  },
  {
   "cell_type": "code",
   "execution_count": 14,
   "metadata": {},
   "outputs": [
    {
     "name": "stdout",
     "output_type": "stream",
     "text": [
      "78\n",
      "90\n",
      "df\n",
      "12\n",
      "xc\n"
     ]
    }
   ],
   "source": [
    "print (x,y,name,age,city, sep=\"\\n\")#sep is used to seperate data in print (\\n means line change)"
   ]
  },
  {
   "cell_type": "code",
   "execution_count": 16,
   "metadata": {},
   "outputs": [
    {
     "name": "stdout",
     "output_type": "stream",
     "text": [
      "hi there\n"
     ]
    }
   ],
   "source": [
    "print ('hi', end=' ')#end is used to not change the line\n",
    "print ('there')"
   ]
  },
  {
   "cell_type": "code",
   "execution_count": 18,
   "metadata": {},
   "outputs": [
    {
     "name": "stdout",
     "output_type": "stream",
     "text": [
      "adding78and90 gives168\n"
     ]
    }
   ],
   "source": [
    "#how to change string in variable\n",
    "print (f'adding{x}and{y} gives{x+y}')#using f and putting variables in curly braces will give there value,variables in curly braces is an expression"
   ]
  },
  {
   "cell_type": "code",
   "execution_count": 24,
   "metadata": {},
   "outputs": [
    {
     "name": "stdout",
     "output_type": "stream",
     "text": [
      "10/3= 3.33 \n"
     ]
    }
   ],
   "source": [
    "a = 10\n",
    "b = 3 \n",
    "print (f'{a}/{b}= {a/b:.2f} ')#curly braces ke andar agar laga do colon aur . laga ke f to itni hi decimal tak answer aaega"
   ]
  },
  {
   "cell_type": "code",
   "execution_count": 28,
   "metadata": {},
   "outputs": [
    {
     "name": "stdout",
     "output_type": "stream",
     "text": [
      "name       df \n",
      "city        xc \n",
      "age         12 \n"
     ]
    }
   ],
   "source": [
    "print (f'{\"name\":10} {name} ')#colon lagake number likho without space to wo utni number ki space dedega\n",
    "print (f'{\"city\":10}  {city} ')\n",
    "print (f'{\"age \":10}  {age} ')"
   ]
  },
  {
   "cell_type": "code",
   "execution_count": 30,
   "metadata": {},
   "outputs": [
    {
     "name": "stdout",
     "output_type": "stream",
     "text": [
      "name                                        df \n",
      "city                                         xc \n",
      "age                                          12 \n"
     ]
    }
   ],
   "source": [
    "print (f'{\"name\":10} {name:>35} ')#right align ke lie:> left ke lie:< aur center ke ie :^\n",
    "print (f'{\"city\":10}  {city:>35} ')\n",
    "print (f'{\"age \":10}  {age:>35} ')"
   ]
  },
  {
   "cell_type": "code",
   "execution_count": 31,
   "metadata": {},
   "outputs": [],
   "source": [
    "#zaroori ni hai ki f ko print hi mei use karo\n",
    "result = f'{x} + {y} = {x+y}'"
   ]
  },
  {
   "cell_type": "code",
   "execution_count": 32,
   "metadata": {},
   "outputs": [],
   "source": [
    "\n",
    "perp = int (input ('perpendicular'))\n",
    "b = int (input ('base'))\n",
    "hypo = ((perp*perp) + (b*b))**.5\n",
    "hypo = ((perp**2) + (b**2))**.5   #** ke baad wala number power hota hai\n",
    "\n",
    "print (f'perpendicular')\n",
    "print (f'base')\n",
    "print (f'hypotnuse')"
   ]
  }
 ],
 "metadata": {
  "kernelspec": {
   "display_name": "base",
   "language": "python",
   "name": "python3"
  },
  "language_info": {
   "codemirror_mode": {
    "name": "ipython",
    "version": 3
   },
   "file_extension": ".py",
   "mimetype": "text/x-python",
   "name": "python",
   "nbconvert_exporter": "python",
   "pygments_lexer": "ipython3",
   "version": "3.10.10"
  },
  "orig_nbformat": 4
 },
 "nbformat": 4,
 "nbformat_minor": 2
}
