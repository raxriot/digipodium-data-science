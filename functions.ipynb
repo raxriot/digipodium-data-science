{
 "cells": [
  {
   "cell_type": "markdown",
   "metadata": {},
   "source": [
    "programming\n",
    "- pre defined funtions\n",
    "    - standard library functions\n",
    "        - functions that are imported by default\n",
    "    - library functions(python mei libraries ko modules kaha jata hai)\n",
    "        - pre installed libraries\n",
    "            - os\n",
    "            - math\n",
    "            - random\n",
    "            -datetime\n",
    "        - 3rd party\n",
    "            - install with pip\n",
    "                - pip install <package name>\n",
    "                - pip show <package name>\n",
    "            - install with conda\n",
    "                - conda install<repo><package name>\n",
    "- user defined functions\n",
    "    - functions without parameter and return value\n",
    "    - functions with parameters\n",
    "        - required parameters\n",
    "        - default parameters\n",
    "        - named parameters\n",
    "        - variable arguments\n",
    "        -  variable keyword arguments\n",
    "    - functions with return value\n",
    "    - functions with parameters and return value\n",
    "    - generators\n",
    "    - functions without name\n",
    "        - lambda functions(anonymous functions)\n",
    "    - functions with name"
   ]
  },
  {
   "cell_type": "code",
   "execution_count": 1,
   "metadata": {},
   "outputs": [],
   "source": [
    "import math"
   ]
  },
  {
   "cell_type": "code",
   "execution_count": 3,
   "metadata": {},
   "outputs": [
    {
     "data": {
      "text/plain": [
       "<function math.factorial(x, /)>"
      ]
     },
     "execution_count": 3,
     "metadata": {},
     "output_type": "execute_result"
    }
   ],
   "source": [
    "math.factorial"
   ]
  },
  {
   "cell_type": "code",
   "execution_count": 4,
   "metadata": {},
   "outputs": [],
   "source": [
    "import os "
   ]
  },
  {
   "cell_type": "code",
   "execution_count": 5,
   "metadata": {},
   "outputs": [
    {
     "name": "stdout",
     "output_type": "stream",
     "text": [
      "\u001b[1;31mSignature:\u001b[0m \u001b[0mos\u001b[0m\u001b[1;33m.\u001b[0m\u001b[0mlistdir\u001b[0m\u001b[1;33m(\u001b[0m\u001b[0mpath\u001b[0m\u001b[1;33m=\u001b[0m\u001b[1;32mNone\u001b[0m\u001b[1;33m)\u001b[0m\u001b[1;33m\u001b[0m\u001b[1;33m\u001b[0m\u001b[0m\n",
      "\u001b[1;31mDocstring:\u001b[0m\n",
      "Return a list containing the names of the files in the directory.\n",
      "\n",
      "path can be specified as either str, bytes, or a path-like object.  If path is bytes,\n",
      "  the filenames returned will also be bytes; in all other circumstances\n",
      "  the filenames returned will be str.\n",
      "If path is None, uses the path='.'.\n",
      "On some platforms, path may also be specified as an open file descriptor;\\\n",
      "  the file descriptor must refer to a directory.\n",
      "  If this functionality is unavailable, using it raises NotImplementedError.\n",
      "\n",
      "The list is in arbitrary order.  It does not include the special\n",
      "entries '.' and '..' even if they are present in the directory.\n",
      "\u001b[1;31mType:\u001b[0m      builtin_function_or_method"
     ]
    }
   ],
   "source": [
    "os.listdir?  #help ke lie ? laga do"
   ]
  },
  {
   "cell_type": "code",
   "execution_count": 6,
   "metadata": {},
   "outputs": [],
   "source": [
    "def si (p, r, t):\n",
    "    '''A function to calculate si''' #documentation\n",
    "    ans = p * r * t / 100\n",
    "    print(f'Simple interest is {ans:.2f}')"
   ]
  },
  {
   "cell_type": "code",
   "execution_count": 8,
   "metadata": {},
   "outputs": [
    {
     "name": "stdout",
     "output_type": "stream",
     "text": [
      "Simple interest is 100.00\n"
     ]
    }
   ],
   "source": [
    "si(1000 , 5 , 2)"
   ]
  },
  {
   "cell_type": "code",
   "execution_count": 9,
   "metadata": {},
   "outputs": [],
   "source": [
    "def hypo(p=1 , b=1 ): #b = 1 is a default parameter\n",
    "    h = (p**2 + b**2)**0.5\n",
    "    print(h)"
   ]
  },
  {
   "cell_type": "code",
   "execution_count": 12,
   "metadata": {},
   "outputs": [
    {
     "name": "stdout",
     "output_type": "stream",
     "text": [
      "12.041594578792296\n",
      "13.0\n",
      "16.401219466856727\n",
      "23.853720883753127\n",
      "13.0\n",
      "13.0\n",
      "5.0990195135927845\n",
      "5.0990195135927845\n",
      "5.0990195135927845\n",
      "5.0990195135927845\n"
     ]
    }
   ],
   "source": [
    "hypo(12)\n",
    "hypo(12,5)\n",
    "hypo(p =10, b =13)#named arguments\n",
    "hypo(b = 13, p =20)\n",
    "hypo(12, b =5)#positional arguments\n",
    "hypo(12, b = 5)#postional arg must come first\n",
    "\n",
    "x = int(input('perp'))\n",
    "y = int(input('base'))\n",
    "hypo(x,y)\n",
    "hypo(p=x,b=y)\n",
    "hypo(x,b=y)\n",
    "hypo(b=y,p=x)\n"
   ]
  },
  {
   "cell_type": "code",
   "execution_count": 14,
   "metadata": {},
   "outputs": [],
   "source": [
    "def prime(num): #jabbhi kisi functions ko define kia jata hai to def keyword ka use karte hai\n",
    "    for i in range(2 , num):\n",
    "        if num%i == 0:\n",
    "            print ('not prime')\n",
    "            break\n",
    "    else:\n",
    "        print('prime')\n",
    "    "
   ]
  },
  {
   "cell_type": "code",
   "execution_count": 15,
   "metadata": {},
   "outputs": [
    {
     "name": "stdout",
     "output_type": "stream",
     "text": [
      "not prime\n"
     ]
    }
   ],
   "source": [
    "prime(4)"
   ]
  },
  {
   "cell_type": "code",
   "execution_count": 17,
   "metadata": {},
   "outputs": [],
   "source": [
    "def multiplier(*num):#*lagadoge to wo parameter mei multiple values aa sakti hain\n",
    "    ans = 1 \n",
    "    for i in num: \n",
    "        ans *=i\n",
    "    print(ans)\n"
   ]
  },
  {
   "cell_type": "code",
   "execution_count": 19,
   "metadata": {},
   "outputs": [
    {
     "name": "stdout",
     "output_type": "stream",
     "text": [
      "25401600\n"
     ]
    }
   ],
   "source": [
    "multiplier(1,2,3,4,5,6,7,7,8,9,10)"
   ]
  },
  {
   "cell_type": "code",
   "execution_count": 20,
   "metadata": {},
   "outputs": [],
   "source": [
    "def agg(*num, a = \"+\"):\n",
    "    if a == \"+\":\n",
    "        ans = 0 \n",
    "        for i in num:\n",
    "            ans+=i\n",
    "        print(ans)\n",
    "    elif a == \"*\":\n",
    "        ans = 1 \n",
    "        for i in num:\n",
    "            ans*=i\n",
    "        print(ans)\n",
    "    elif a == \"/\":\n",
    "        ans = 0\n",
    "        for i in num:\n",
    "            ans+=i\n",
    "        print(ans/len(num))\n",
    "    else:\n",
    "        print(\"invalid operator\")\n"
   ]
  },
  {
   "cell_type": "code",
   "execution_count": 23,
   "metadata": {},
   "outputs": [
    {
     "name": "stdout",
     "output_type": "stream",
     "text": [
      "1037\n",
      "45360000\n",
      "115.22222222222223\n",
      "invalid operator\n"
     ]
    }
   ],
   "source": [
    "agg(1,2,3,4,5,6,7,9,1000 , a = \"+\")\n",
    "agg(1,2,3,4,5,6,7,9,1000 , a = \"*\")\n",
    "agg(1,2,3,4,5,6,7,9,1000 , a = \"/\")\n",
    "agg(1,2,3,4,5,6,7,9,1000 , a = \"  \")"
   ]
  }
 ],
 "metadata": {
  "kernelspec": {
   "display_name": "base",
   "language": "python",
   "name": "python3"
  },
  "language_info": {
   "codemirror_mode": {
    "name": "ipython",
    "version": 3
   },
   "file_extension": ".py",
   "mimetype": "text/x-python",
   "name": "python",
   "nbconvert_exporter": "python",
   "pygments_lexer": "ipython3",
   "version": "3.10.10"
  },
  "orig_nbformat": 4
 },
 "nbformat": 4,
 "nbformat_minor": 2
}
