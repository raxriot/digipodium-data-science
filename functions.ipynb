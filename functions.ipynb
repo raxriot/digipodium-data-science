{
 "cells": [
  {
   "cell_type": "markdown",
   "metadata": {},
   "source": [
    "programming\n",
    "- pre defined funtions\n",
    "    - standard library functions\n",
    "        - functions that are imported by default\n",
    "    - library functions(python mei libraries ko modules kaha jata hai)\n",
    "        - pre installed libraries\n",
    "            - os\n",
    "            - math\n",
    "            - random\n",
    "            -datetime\n",
    "        - 3rd party\n",
    "            - install with pip\n",
    "                - pip install <package name>\n",
    "                - pip show <package name>\n",
    "            - install with conda\n",
    "                - conda install<repo><package name>\n",
    "- user defined functions\n",
    "    - functions without parameter and return value\n",
    "    - functions with parameters\n",
    "        - required parameters\n",
    "        - default parameters\n",
    "        - named parameters\n",
    "        - variable arguments\n",
    "        -  variable keyword arguments\n",
    "    - functions with return value\n",
    "    - functions with parameters and return value\n",
    "    - generators\n",
    "    - functions without name\n",
    "        - lambda functions(anonymous functions)\n",
    "    - functions with name"
   ]
  },
  {
   "cell_type": "code",
   "execution_count": 6,
   "metadata": {},
   "outputs": [],
   "source": [
    "import math"
   ]
  },
  {
   "cell_type": "code",
   "execution_count": 7,
   "metadata": {},
   "outputs": [
    {
     "data": {
      "text/plain": [
       "<function math.factorial(x, /)>"
      ]
     },
     "execution_count": 7,
     "metadata": {},
     "output_type": "execute_result"
    }
   ],
   "source": [
    "math.factorial"
   ]
  },
  {
   "cell_type": "code",
   "execution_count": 8,
   "metadata": {},
   "outputs": [],
   "source": [
    "import os "
   ]
  },
  {
   "cell_type": "code",
   "execution_count": 12,
   "metadata": {},
   "outputs": [
    {
     "ename": "SyntaxError",
     "evalue": "invalid syntax (63383078.py, line 1)",
     "output_type": "error",
     "traceback": [
      "\u001b[1;36m  Cell \u001b[1;32mIn[12], line 1\u001b[1;36m\u001b[0m\n\u001b[1;33m    os.listdir ?  #help ke lie ? laga do\u001b[0m\n\u001b[1;37m               ^\u001b[0m\n\u001b[1;31mSyntaxError\u001b[0m\u001b[1;31m:\u001b[0m invalid syntax\n"
     ]
    }
   ],
   "source": [
    "os.listdir?  #help ke lie ? laga do"
   ]
  },
  {
   "cell_type": "code",
   "execution_count": null,
   "metadata": {},
   "outputs": [],
   "source": [
    "def si (p, r, t):\n",
    "    '''A function to calculate si''' #documentation\n",
    "    ans = p * r * t / 100\n",
    "    print(f'Simple interest is {ans:.2f}')"
   ]
  },
  {
   "cell_type": "code",
   "execution_count": null,
   "metadata": {},
   "outputs": [
    {
     "name": "stdout",
     "output_type": "stream",
     "text": [
      "Simple interest is 100.00\n"
     ]
    }
   ],
   "source": [
    "si(1000 , 5 , 2)"
   ]
  },
  {
   "cell_type": "code",
   "execution_count": null,
   "metadata": {},
   "outputs": [],
   "source": [
    "def hypo(p=1 , b=1 ): #b = 1 is a default parameter\n",
    "    h = (p**2 + b**2)**0.5\n",
    "    print(h)"
   ]
  },
  {
   "cell_type": "code",
   "execution_count": null,
   "metadata": {},
   "outputs": [
    {
     "name": "stdout",
     "output_type": "stream",
     "text": [
      "12.041594578792296\n",
      "13.0\n",
      "16.401219466856727\n",
      "23.853720883753127\n",
      "13.0\n",
      "13.0\n",
      "5.0990195135927845\n",
      "5.0990195135927845\n",
      "5.0990195135927845\n",
      "5.0990195135927845\n"
     ]
    }
   ],
   "source": [
    "hypo(12)\n",
    "hypo(12,5)\n",
    "hypo(p =10, b =13)#named arguments\n",
    "hypo(b = 13, p =20)\n",
    "hypo(12, b =5)#positional arguments\n",
    "hypo(12, b = 5)#postional arg must come first\n",
    "\n",
    "x = int(input('perp'))\n",
    "y = int(input('base'))\n",
    "hypo(x,y)\n",
    "hypo(p=x,b=y)\n",
    "hypo(x,b=y)\n",
    "hypo(b=y,p=x)\n"
   ]
  },
  {
   "cell_type": "code",
   "execution_count": null,
   "metadata": {},
   "outputs": [],
   "source": [
    "def prime(num): #jabbhi kisi functions ko define kia jata hai to def keyword ka use karte hai\n",
    "    for i in range(2 , num):\n",
    "        if num%i == 0:\n",
    "            print ('not prime')\n",
    "            break\n",
    "    else:\n",
    "        print('prime')\n",
    "    "
   ]
  },
  {
   "cell_type": "code",
   "execution_count": null,
   "metadata": {},
   "outputs": [
    {
     "name": "stdout",
     "output_type": "stream",
     "text": [
      "not prime\n"
     ]
    }
   ],
   "source": [
    "prime(4)"
   ]
  },
  {
   "cell_type": "code",
   "execution_count": null,
   "metadata": {},
   "outputs": [],
   "source": [
    "def multiplier(*num):#*lagadoge to wo parameter mei multiple values aa sakti hain\n",
    "    ans = 1 \n",
    "    for i in num: \n",
    "        ans *=i\n",
    "    print(ans)\n"
   ]
  },
  {
   "cell_type": "code",
   "execution_count": null,
   "metadata": {},
   "outputs": [
    {
     "name": "stdout",
     "output_type": "stream",
     "text": [
      "25401600\n"
     ]
    }
   ],
   "source": [
    "multiplier(1,2,3,4,5,6,7,7,8,9,10)"
   ]
  },
  {
   "cell_type": "code",
   "execution_count": 10,
   "metadata": {},
   "outputs": [],
   "source": [
    "def agg(*num, a = \"+\"):\n",
    "    if a == \"+\":\n",
    "        ans = 0 \n",
    "        for i in num:\n",
    "            ans+=i\n",
    "        print(ans)\n",
    "    elif a == \"*\":\n",
    "        ans = 1 \n",
    "        for i in num:\n",
    "            ans*=i\n",
    "        print(ans)\n",
    "    elif a == \"/\":\n",
    "        ans = 0\n",
    "        for i in num:\n",
    "            ans+=i\n",
    "        print(ans/len(num))\n",
    "    else:\n",
    "        print(\"invalid operator\")\n"
   ]
  },
  {
   "cell_type": "code",
   "execution_count": 11,
   "metadata": {},
   "outputs": [
    {
     "name": "stdout",
     "output_type": "stream",
     "text": [
      "1037\n",
      "45360000\n",
      "115.22222222222223\n",
      "invalid operator\n"
     ]
    }
   ],
   "source": [
    "agg(1,2,3,4,5,6,7,9,1000 , a = \"+\")\n",
    "agg(1,2,3,4,5,6,7,9,1000 , a = \"*\")\n",
    "agg(1,2,3,4,5,6,7,9,1000 , a = \"/\")\n",
    "agg(1,2,3,4,5,6,7,9,1000 , a = \"  \")"
   ]
  },
  {
   "cell_type": "code",
   "execution_count": 14,
   "metadata": {},
   "outputs": [
    {
     "name": "stdout",
     "output_type": "stream",
     "text": [
      "True\n",
      "False\n"
     ]
    }
   ],
   "source": [
    "#def keyword function ke lie hai\n",
    "def odd_even(x):\n",
    "    if x%2 == 0:\n",
    "        return False\n",
    "    else:\n",
    "        return True\n",
    "print(odd_even(3))\n",
    "print(odd_even(4))"
   ]
  },
  {
   "cell_type": "code",
   "execution_count": 16,
   "metadata": {},
   "outputs": [
    {
     "name": "stdout",
     "output_type": "stream",
     "text": [
      "20\n",
      "10\n"
     ]
    }
   ],
   "source": [
    "def area(l, b =10):\n",
    "    return l*b\n",
    "print(area(2))\n",
    "print(area(2, 5))"
   ]
  },
  {
   "cell_type": "code",
   "execution_count": 18,
   "metadata": {},
   "outputs": [
    {
     "name": "stdout",
     "output_type": "stream",
     "text": [
      "bro shavez ahmed\n"
     ]
    }
   ],
   "source": [
    "def name (first, last, middle):\n",
    "    return first+\" \"+middle+\" \"+last\n",
    "print (name(middle = \"shavez\", first = \"bro\", last = \"ahmed\"))"
   ]
  },
  {
   "cell_type": "markdown",
   "metadata": {},
   "source": [
    "arbitrat arguments\n",
    "* args\n",
    "* kwargs"
   ]
  },
  {
   "cell_type": "code",
   "execution_count": 21,
   "metadata": {},
   "outputs": [
    {
     "name": "stdout",
     "output_type": "stream",
     "text": [
      "shavez\n",
      "ahmed\n",
      "pataudi\n"
     ]
    }
   ],
   "source": [
    "def sentence(*args): #args\n",
    "    for i in args:\n",
    "        print(i)\n",
    "sentence(\"shavez\",\"ahmed\",\"pataudi\")"
   ]
  },
  {
   "cell_type": "code",
   "execution_count": 27,
   "metadata": {},
   "outputs": [
    {
     "name": "stdout",
     "output_type": "stream",
     "text": [
      "name shavez\n",
      "age 18\n",
      "place pataudi\n"
     ]
    }
   ],
   "source": [
    "def sentence(**kargs): #kargs, ye har cheez dictionary by default leta hai\n",
    "    for i in kargs:\n",
    "        print(i, kargs[i])\n",
    "    \n",
    "sentence(name =\"shavez\",age =18,place =\"pataudi\")"
   ]
  },
  {
   "cell_type": "markdown",
   "metadata": {},
   "source": [
    "lambda d=function\n",
    "are one line function"
   ]
  },
  {
   "cell_type": "code",
   "execution_count": 29,
   "metadata": {},
   "outputs": [
    {
     "data": {
      "text/plain": [
       "27"
      ]
     },
     "execution_count": 29,
     "metadata": {},
     "output_type": "execute_result"
    }
   ],
   "source": [
    "def c(x):\n",
    "    return x**3\n",
    "c(3)"
   ]
  },
  {
   "cell_type": "code",
   "execution_count": 30,
   "metadata": {},
   "outputs": [
    {
     "name": "stdout",
     "output_type": "stream",
     "text": [
      "27\n"
     ]
    }
   ],
   "source": [
    "cube = lambda x:x**3 #lambda functions\n",
    "print(cube(3))"
   ]
  },
  {
   "cell_type": "code",
   "execution_count": 32,
   "metadata": {},
   "outputs": [
    {
     "data": {
      "text/plain": [
       "17.69180601295413"
      ]
     },
     "execution_count": 32,
     "metadata": {},
     "output_type": "execute_result"
    }
   ],
   "source": [
    "def hypo(p,b):\n",
    "    return (b**2 + p**2)**0.5\n",
    "hypo(12,13)"
   ]
  },
  {
   "cell_type": "markdown",
   "metadata": {},
   "source": [
    "syntax = lambda(keyword) vriable colon task"
   ]
  },
  {
   "cell_type": "code",
   "execution_count": 34,
   "metadata": {},
   "outputs": [
    {
     "data": {
      "text/plain": [
       "17.69180601295413"
      ]
     },
     "execution_count": 34,
     "metadata": {},
     "output_type": "execute_result"
    }
   ],
   "source": [
    "hypo = lambda p,b:(b**2 + p**2)**0.5 \n",
    "hypo(12,13)"
   ]
  },
  {
   "cell_type": "code",
   "execution_count": 37,
   "metadata": {},
   "outputs": [
    {
     "data": {
      "text/plain": [
       "10"
      ]
     },
     "execution_count": 37,
     "metadata": {},
     "output_type": "execute_result"
    }
   ],
   "source": [
    "maxi = lambda a,b: max(a,b)\n",
    "maxi(10,5)"
   ]
  },
  {
   "cell_type": "code",
   "execution_count": 40,
   "metadata": {},
   "outputs": [
    {
     "data": {
      "text/plain": [
       "'even'"
      ]
     },
     "execution_count": 40,
     "metadata": {},
     "output_type": "execute_result"
    }
   ],
   "source": [
    "oe = lambda a: \"even\" if a%2==0 else \"odd\"\n",
    "oe(2)"
   ]
  },
  {
   "cell_type": "code",
   "execution_count": 42,
   "metadata": {},
   "outputs": [
    {
     "data": {
      "text/plain": [
       "'b is greater than a'"
      ]
     },
     "execution_count": 42,
     "metadata": {},
     "output_type": "execute_result"
    }
   ],
   "source": [
    "maxi = lambda a,b: \"a is greater than b\" if a>b else \"b is greater than a\"\n",
    "maxi(2,3)"
   ]
  },
  {
   "cell_type": "code",
   "execution_count": 45,
   "metadata": {},
   "outputs": [
    {
     "name": "stdout",
     "output_type": "stream",
     "text": [
      "0\n",
      "1\n",
      "2\n",
      "3\n",
      "4\n"
     ]
    }
   ],
   "source": [
    "arr = [lambda arg=x : arg for x in range(5)]\n",
    "for i in arr:\n",
    "    print(i())"
   ]
  },
  {
   "cell_type": "code",
   "execution_count": 48,
   "metadata": {},
   "outputs": [
    {
     "name": "stdout",
     "output_type": "stream",
     "text": [
      "[[2, 2, 2, 2], [2, 2, 2, 2], [2, 2, 2, 2]]\n"
     ]
    }
   ],
   "source": [
    "matrix = [[2 for i in range(4)] for j in range(3)]\n",
    "print(matrix)"
   ]
  },
  {
   "cell_type": "code",
   "execution_count": 49,
   "metadata": {},
   "outputs": [
    {
     "name": "stdout",
     "output_type": "stream",
     "text": [
      "[[0, 0, 0, 0], [0, 0, 0, 0], [0, 0, 0, 0]]\n"
     ]
    }
   ],
   "source": [
    "matrix = []\n",
    "for i in range (3):\n",
    "    sub=[]\n",
    "    for j in range(4):\n",
    "        sub.append(0)\n",
    "    matrix.append(sub)\n",
    "print(matrix)"
   ]
  },
  {
   "cell_type": "code",
   "execution_count": 50,
   "metadata": {},
   "outputs": [
    {
     "name": "stdout",
     "output_type": "stream",
     "text": [
      "[[0, 0, 0, 0], [0, 0, 0, 0], [0, 0, 0, 0]]\n"
     ]
    }
   ],
   "source": [
    "mat = [[0]*4]*3\n",
    "print(mat)"
   ]
  }
 ],
 "metadata": {
  "kernelspec": {
   "display_name": "base",
   "language": "python",
   "name": "python3"
  },
  "language_info": {
   "codemirror_mode": {
    "name": "ipython",
    "version": 3
   },
   "file_extension": ".py",
   "mimetype": "text/x-python",
   "name": "python",
   "nbconvert_exporter": "python",
   "pygments_lexer": "ipython3",
   "version": "3.10.10"
  },
  "orig_nbformat": 4
 },
 "nbformat": 4,
 "nbformat_minor": 2
}
