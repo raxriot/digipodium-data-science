{
 "cells": [
  {
   "cell_type": "code",
   "execution_count": 1,
   "metadata": {},
   "outputs": [],
   "source": [
    "#for temp in iterable:(way to loop)\n",
    "#iterables: string, list, tuple, set, dictionary"
   ]
  },
  {
   "cell_type": "code",
   "execution_count": 3,
   "metadata": {},
   "outputs": [
    {
     "data": {
      "text/plain": [
       "['1', '2', '3', '4', '5']"
      ]
     },
     "execution_count": 3,
     "metadata": {},
     "output_type": "execute_result"
    }
   ],
   "source": [
    "x = 12345\n",
    "list (str(x))"
   ]
  },
  {
   "cell_type": "code",
   "execution_count": 5,
   "metadata": {},
   "outputs": [
    {
     "name": "stdout",
     "output_type": "stream",
     "text": [
      "9\n",
      "shavez\n",
      "django\n",
      "batman\n",
      "batman begins\n",
      "air\n",
      "ex machina\n",
      "500 days of summer\n",
      "rango\n",
      "interstellar\n"
     ]
    }
   ],
   "source": [
    "movies = [\n",
    "'shavez', \n",
    "'django', \n",
    "'batman', \n",
    "'batman begins',\n",
    "'air', \n",
    "'ex machina', \n",
    "'500 days of summer',\n",
    "'rango',\n",
    "'interstellar',\n",
    "\n",
    "]\n",
    "print (len(movies))\n",
    "for title in movies:\n",
    "    print(title)"
   ]
  },
  {
   "cell_type": "code",
   "execution_count": 7,
   "metadata": {},
   "outputs": [
    {
     "name": "stdout",
     "output_type": "stream",
     "text": [
      "shavez                                   6 chars\n",
      "django                                   6 chars\n",
      "batman                                   6 chars\n",
      "batman begins                            13 chars\n",
      "air                                      3 chars\n",
      "ex machina                               10 chars\n",
      "500 days of summer                       18 chars\n",
      "rango                                    5 chars\n",
      "interstellar                             12 chars\n"
     ]
    }
   ],
   "source": [
    "for title in movies: ##title is the variable in which the data of list is stored\n",
    "    print (f'{title:40} {len(title)} chars')"
   ]
  },
  {
   "cell_type": "code",
   "execution_count": 10,
   "metadata": {},
   "outputs": [
    {
     "name": "stdout",
     "output_type": "stream",
     "text": [
      "shavez\n",
      "django\n",
      "batman\n",
      "batman begins\n",
      "air\n",
      "ex machina\n",
      "500 days of summer\n",
      "rango\n",
      "interstellar\n"
     ]
    }
   ],
   "source": [
    "for title in movies:\n",
    "    w = 'a'\n",
    "    if w in title:\n",
    "     print(title)"
   ]
  },
  {
   "cell_type": "code",
   "execution_count": 15,
   "metadata": {},
   "outputs": [],
   "source": [
    "books = [\n",
    "    ['idk', 'people', 10],\n",
    "    ['harry porter', 'silvia palath', 10],\n",
    "    ['destiny', 'mahmoud darwish', 10],\n",
    "    ['aky', 'akinator', 1],\n",
    "    ['zabi', 'raiden', 7],\n",
    "    ['street fighter', 'sub zer0', 10],\n",
    "    ['shh', 'ken', 20]\n",
    "\n",
    "]\n"
   ]
  },
  {
   "cell_type": "code",
   "execution_count": 30,
   "metadata": {},
   "outputs": [
    {
     "name": "stdout",
     "output_type": "stream",
     "text": [
      "idk, people, 10, \n",
      "harry porter, silvia palath, 10, \n",
      "destiny, mahmoud darwish, 10, \n",
      "aky, akinator, 1, \n",
      "zabi, raiden, 7, \n",
      "street fighter, sub zer0, 10, \n",
      "shh, ken, 20, \n"
     ]
    }
   ],
   "source": [
    "for book in books:\n",
    "    for field in book:\n",
    "        print(f'{field}', end=', ')\n",
    "    print()"
   ]
  },
  {
   "cell_type": "code",
   "execution_count": 34,
   "metadata": {},
   "outputs": [
    {
     "name": "stdout",
     "output_type": "stream",
     "text": [
      "title: idk , author: people , rating: 10  \n",
      "\n",
      "title: harry porter , author: silvia palath , rating: 10  \n",
      "\n",
      "title: destiny , author: mahmoud darwish , rating: 10  \n",
      "\n",
      "title: aky , author: akinator , rating: 1  \n",
      "\n",
      "title: zabi , author: raiden , rating: 7  \n",
      "\n",
      "title: street fighter , author: sub zer0 , rating: 10  \n",
      "\n",
      "title: shh , author: ken , rating: 20  \n",
      "\n"
     ]
    }
   ],
   "source": [
    "for book in books:\n",
    "    print (f'title: {book[0]}', end=' , ')\n",
    "    print (f'author: {book[1]}', end=' , ')\n",
    "    print (f'rating: {book[2]}', end='  ')\n",
    "    print()\n",
    "    print()"
   ]
  }
 ],
 "metadata": {
  "kernelspec": {
   "display_name": "base",
   "language": "python",
   "name": "python3"
  },
  "language_info": {
   "codemirror_mode": {
    "name": "ipython",
    "version": 3
   },
   "file_extension": ".py",
   "mimetype": "text/x-python",
   "name": "python",
   "nbconvert_exporter": "python",
   "pygments_lexer": "ipython3",
   "version": "3.10.10"
  },
  "orig_nbformat": 4
 },
 "nbformat": 4,
 "nbformat_minor": 2
}
