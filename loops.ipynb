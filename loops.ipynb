{
 "cells": [
  {
   "cell_type": "code",
   "execution_count": 2,
   "metadata": {},
   "outputs": [],
   "source": [
    "#for temp in iterable:(way to loop)\n",
    "#iterables: string, list, tuple, set, dictionary"
   ]
  },
  {
   "cell_type": "code",
   "execution_count": 3,
   "metadata": {},
   "outputs": [
    {
     "data": {
      "text/plain": [
       "['1', '2', '3', '4', '5']"
      ]
     },
     "execution_count": 3,
     "metadata": {},
     "output_type": "execute_result"
    }
   ],
   "source": [
    "x = 12345\n",
    "list (str(x))"
   ]
  },
  {
   "cell_type": "code",
   "execution_count": 4,
   "metadata": {},
   "outputs": [
    {
     "name": "stdout",
     "output_type": "stream",
     "text": [
      "9\n",
      "shavez\n",
      "django\n",
      "batman\n",
      "batman begins\n",
      "air\n",
      "ex machina\n",
      "500 days of summer\n",
      "rango\n",
      "interstellar\n"
     ]
    }
   ],
   "source": [
    "movies = [\n",
    "'shavez', \n",
    "'django', \n",
    "'batman', \n",
    "'batman begins',\n",
    "'air', \n",
    "'ex machina', \n",
    "'500 days of summer',\n",
    "'rango',\n",
    "'interstellar',\n",
    "\n",
    "]\n",
    "print (len(movies))\n",
    "for title in movies:\n",
    "    print(title)"
   ]
  },
  {
   "cell_type": "code",
   "execution_count": 5,
   "metadata": {},
   "outputs": [
    {
     "name": "stdout",
     "output_type": "stream",
     "text": [
      "shavez                                   6 chars\n",
      "django                                   6 chars\n",
      "batman                                   6 chars\n",
      "batman begins                            13 chars\n",
      "air                                      3 chars\n",
      "ex machina                               10 chars\n",
      "500 days of summer                       18 chars\n",
      "rango                                    5 chars\n",
      "interstellar                             12 chars\n"
     ]
    }
   ],
   "source": [
    "for title in movies: ##title is the variable in which the data of list is stored\n",
    "    print (f'{title:40} {len(title)} chars')"
   ]
  },
  {
   "cell_type": "code",
   "execution_count": 6,
   "metadata": {},
   "outputs": [
    {
     "name": "stdout",
     "output_type": "stream",
     "text": [
      "shavez\n",
      "django\n",
      "batman\n",
      "batman begins\n",
      "air\n",
      "ex machina\n",
      "500 days of summer\n",
      "rango\n",
      "interstellar\n"
     ]
    }
   ],
   "source": [
    "for title in movies:\n",
    "    w = 'a'\n",
    "    if w in title:\n",
    "     print(title)"
   ]
  },
  {
   "cell_type": "code",
   "execution_count": 7,
   "metadata": {},
   "outputs": [],
   "source": [
    "books = [\n",
    "    ['idk', 'people', 10],\n",
    "    ['harry porter', 'silvia palath', 10],\n",
    "    ['destiny', 'mahmoud darwish', 10],\n",
    "    ['aky', 'akinator', 1],\n",
    "    ['zabi', 'raiden', 7],\n",
    "    ['street fighter', 'sub zer0', 10],\n",
    "    ['shh', 'ken', 20]\n",
    "\n",
    "]\n"
   ]
  },
  {
   "cell_type": "code",
   "execution_count": 8,
   "metadata": {},
   "outputs": [
    {
     "name": "stdout",
     "output_type": "stream",
     "text": [
      "idk, people, 10, \n",
      "harry porter, silvia palath, 10, \n",
      "destiny, mahmoud darwish, 10, \n",
      "aky, akinator, 1, \n",
      "zabi, raiden, 7, \n",
      "street fighter, sub zer0, 10, \n",
      "shh, ken, 20, \n"
     ]
    }
   ],
   "source": [
    "for book in books:\n",
    "    for field in book:\n",
    "        print(f'{field}', end=', ')\n",
    "    print()"
   ]
  },
  {
   "cell_type": "code",
   "execution_count": 9,
   "metadata": {},
   "outputs": [
    {
     "name": "stdout",
     "output_type": "stream",
     "text": [
      "title: idk , author: people , rating: 10  \n",
      "\n",
      "title: harry porter , author: silvia palath , rating: 10  \n",
      "\n",
      "title: destiny , author: mahmoud darwish , rating: 10  \n",
      "\n",
      "title: aky , author: akinator , rating: 1  \n",
      "\n",
      "title: zabi , author: raiden , rating: 7  \n",
      "\n",
      "title: street fighter , author: sub zer0 , rating: 10  \n",
      "\n",
      "title: shh , author: ken , rating: 20  \n",
      "\n"
     ]
    }
   ],
   "source": [
    "for book in books:\n",
    "    print (f'title: {book[0]}', end=' , ')\n",
    "    print (f'author: {book[1]}', end=' , ')\n",
    "    print (f'rating: {book[2]}', end='  ')\n",
    "    print()\n",
    "    print()"
   ]
  },
  {
   "cell_type": "code",
   "execution_count": 10,
   "metadata": {},
   "outputs": [
    {
     "name": "stdout",
     "output_type": "stream",
     "text": [
      "12\n",
      "21\n",
      "44\n",
      "56\n"
     ]
    }
   ],
   "source": [
    "prices = [12, 21, 44, 56, None, 22]\n",
    "for price in prices:\n",
    "    if price is None:\n",
    "        break\n",
    "    print(price)"
   ]
  },
  {
   "cell_type": "code",
   "execution_count": 11,
   "metadata": {},
   "outputs": [
    {
     "name": "stdout",
     "output_type": "stream",
     "text": [
      "12\n",
      "21\n",
      "44\n",
      "56\n",
      "22\n"
     ]
    }
   ],
   "source": [
    "prices = [12, 21, 44, 56, None, 22]\n",
    "for price in prices:\n",
    "    if price is None:\n",
    "        continue\n",
    "    print(price)"
   ]
  },
  {
   "cell_type": "code",
   "execution_count": 12,
   "metadata": {},
   "outputs": [
    {
     "name": "stdout",
     "output_type": "stream",
     "text": [
      "(0, 'rax')\n",
      "(1, 'harry')\n",
      "(2, 'louis')\n",
      "(3, 'brandon')\n"
     ]
    }
   ],
   "source": [
    "names = ['rax', 'harry', 'louis', 'brandon']\n",
    "for name in enumerate(names):\n",
    "    print ( name)\n",
    "    ##ye output tuple mei aaya hai jab ese brackets mei index value ke saath answer aae to wo tuple hai "
   ]
  },
  {
   "cell_type": "code",
   "execution_count": 13,
   "metadata": {},
   "outputs": [
    {
     "name": "stdout",
     "output_type": "stream",
     "text": [
      "0             rax    \n",
      "1            harry   \n",
      "2            louis   \n",
      "3           brandon  \n"
     ]
    }
   ],
   "source": [
    "names = ['rax', 'harry', 'louis', 'brandon']##how to get answer without tuple i.e. simplified output\n",
    "for index, name in enumerate(names):\n",
    "    print (f'{index:<10} {name:^10}')"
   ]
  },
  {
   "cell_type": "code",
   "execution_count": 14,
   "metadata": {},
   "outputs": [
    {
     "name": "stdout",
     "output_type": "stream",
     "text": [
      "item       quantity    price\n",
      "bread         2        400   \n",
      "books         1        1000  \n",
      "butter        1         55   \n"
     ]
    }
   ],
   "source": [
    "##program to display item, item quantity, price\n",
    "item_name = ['bread', 'books', 'butter']\n",
    "item_quantity = [2, 1, 1]\n",
    "total_price = [200, 1000 , 55]\n",
    "print (f\"{'item':10} quantity {'price':>8}\")\n",
    "for g, p, q in zip(item_name, item_quantity, total_price):\n",
    "    print (f'{g:10}{p:^10} {p*q:^8}')\n",
    "    \n",
    "  "
   ]
  },
  {
   "cell_type": "code",
   "execution_count": 15,
   "metadata": {},
   "outputs": [
    {
     "name": "stdout",
     "output_type": "stream",
     "text": [
      "prime\n"
     ]
    }
   ],
   "source": [
    "num = int(input('num?'))\n",
    "for i in range(2 , num):\n",
    "    if num%i == 0:\n",
    "        print ('not prime')\n",
    "        break\n",
    "else:\n",
    "    print('prime')"
   ]
  },
  {
   "cell_type": "code",
   "execution_count": 16,
   "metadata": {},
   "outputs": [
    {
     "name": "stdout",
     "output_type": "stream",
     "text": [
      "5\n"
     ]
    }
   ],
   "source": [
    "num = int(input('number please'))\n",
    "rev = 0\n",
    "while (num > 0):\n",
    "    last_digits = num % 10\n",
    "    rev = rev *10 + last_digits \n",
    "    num = num//10\n",
    "print(rev)"
   ]
  },
  {
   "cell_type": "code",
   "execution_count": null,
   "metadata": {},
   "outputs": [],
   "source": []
  }
 ],
 "metadata": {
  "kernelspec": {
   "display_name": "base",
   "language": "python",
   "name": "python3"
  },
  "language_info": {
   "codemirror_mode": {
    "name": "ipython",
    "version": 3
   },
   "file_extension": ".py",
   "mimetype": "text/x-python",
   "name": "python",
   "nbconvert_exporter": "python",
   "pygments_lexer": "ipython3",
   "version": "3.10.10"
  },
  "orig_nbformat": 4
 },
 "nbformat": 4,
 "nbformat_minor": 2
}
