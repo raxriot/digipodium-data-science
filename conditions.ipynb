{
 "cells": [
  {
   "cell_type": "code",
   "execution_count": 2,
   "metadata": {},
   "outputs": [
    {
     "data": {
      "text/plain": [
       "False"
      ]
     },
     "execution_count": 2,
     "metadata": {},
     "output_type": "execute_result"
    }
   ],
   "source": [
    "##true(True) values any non zero value is True,any non empty string is also True,non empty data structure is  True\n",
    "## false values vice versa of true values i.e anythying empty in boolean will return false\n",
    "bool(0)\n",
    "\n"
   ]
  },
  {
   "attachments": {},
   "cell_type": "markdown",
   "metadata": {},
   "source": [
    "### a python block of code\n",
    "'''\n",
    "keyword expression:\n",
    "statement1\n",
    ".....\n",
    "statement n\n",
    "statement outside code \n",
    "4 spaces or 1 tab = 1 indentation\n",
    "'''"
   ]
  },
  {
   "cell_type": "code",
   "execution_count": 4,
   "metadata": {},
   "outputs": [
    {
     "name": "stdout",
     "output_type": "stream",
     "text": [
      "x is greater than 25\n"
     ]
    }
   ],
   "source": [
    "x = 30\n",
    "if x>25:\n",
    "       print('x is greater than 25')"
   ]
  },
  {
   "cell_type": "code",
   "execution_count": 7,
   "metadata": {},
   "outputs": [
    {
     "name": "stdout",
     "output_type": "stream",
     "text": [
      "x is greater than 10\n",
      "x is greater than 50\n",
      "x is greater than 100\n"
     ]
    }
   ],
   "source": [
    "x = int (input('number'))\n",
    "if x > 10: \n",
    "    print ('x is greater than 10')\n",
    "if x > 50:\n",
    "    print ('x is greater than 50')\n",
    "if x > 100 : \n",
    "    print ('x is greater than 100')"
   ]
  },
  {
   "cell_type": "code",
   "execution_count": 20,
   "metadata": {},
   "outputs": [
    {
     "name": "stdout",
     "output_type": "stream",
     "text": [
      "number is even\n"
     ]
    }
   ],
   "source": [
    "num = int (input ('number'))\n",
    "if num%2 == 0:\n",
    "    print ('number is even')\n",
    "else :\n",
    "    print ('odd hai bhai tumhari zindagi ki tarha')\n",
    "\n"
   ]
  },
  {
   "cell_type": "code",
   "execution_count": 22,
   "metadata": {},
   "outputs": [
    {
     "name": "stdout",
     "output_type": "stream",
     "text": [
      "c is biggest number\n"
     ]
    }
   ],
   "source": [
    "##eleif is to check multipe conditions aso used to co relate the blockye ese work karta hai : agar,ya to ,warna\n",
    "a, b, c = 10, 20, 30\n",
    "if a > b and a > c:\n",
    "    print ('a i biggest number')\n",
    "elif b > c and b > a:\n",
    "    print ('b is biggest number')\n",
    "else:\n",
    "    print ('c is biggest number')"
   ]
  },
  {
   "cell_type": "code",
   "execution_count": 29,
   "metadata": {},
   "outputs": [
    {
     "name": "stdout",
     "output_type": "stream",
     "text": [
      "ok good\n"
     ]
    }
   ],
   "source": [
    "username = input ('enter username')##remember in mei se sirf ek hi condition ka answer output aa sakta hai\n",
    "pwd = input ('pass?')\n",
    "if  len(username)<3:\n",
    "    print ('bada likho')  \n",
    "if len(pwd)<8:\n",
    "    print('chori ho jaega')\n",
    "if not username.isalpha:\n",
    "    print('alphabet please')\n",
    "if len(username)>=3 and len(pwd)>=8 and  username.isalpha :\n",
    "    print('ok good')\n"
   ]
  },
  {
   "cell_type": "code",
   "execution_count": 30,
   "metadata": {},
   "outputs": [
    {
     "name": "stdout",
     "output_type": "stream",
     "text": [
      "today is holiday\n"
     ]
    }
   ],
   "source": [
    "day = input('day?')\n",
    "match day:\n",
    "    case 'saturday':\n",
    "        print ('today is saturday')\n",
    "    case 'sunday':\n",
    "        print('today is sunday')\n",
    "    case 'monday':\n",
    "        print('today is monday')\n",
    "    case 'thursday'|'holiday':##multiple values ek case mei dene ke lie | iska use karo\n",
    "        print('today is holiday')\n",
    "    ##case _ default ke lie\n"
   ]
  }
 ],
 "metadata": {
  "kernelspec": {
   "display_name": "base",
   "language": "python",
   "name": "python3"
  },
  "language_info": {
   "codemirror_mode": {
    "name": "ipython",
    "version": 3
   },
   "file_extension": ".py",
   "mimetype": "text/x-python",
   "name": "python",
   "nbconvert_exporter": "python",
   "pygments_lexer": "ipython3",
   "version": "3.10.10"
  },
  "orig_nbformat": 4
 },
 "nbformat": 4,
 "nbformat_minor": 2
}
