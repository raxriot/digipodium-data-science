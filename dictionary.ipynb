{
 "cells": [
  {
   "cell_type": "markdown",
   "metadata": {},
   "source": [
    "## dictionary\n",
    "by default agar sirf{}lage ho to wo dictionary hi mana jaega\n",
    "complex format syntax:"
   ]
  },
  {
   "cell_type": "code",
   "execution_count": 3,
   "metadata": {},
   "outputs": [
    {
     "name": "stdout",
     "output_type": "stream",
     "text": [
      "{'first name': 'aloo', 'last name': 'pahadi', 'age': 400, 'adress': {'house num': 'baba', 'city': 'rhodes', 'street': 'nepal'}}\n"
     ]
    }
   ],
   "source": [
    "rajesh = {\n",
    "    'first name' : 'aloo',\n",
    "    'last name' : 'pahadi',\n",
    "    'age' : 400,\n",
    "    'adress' : {\n",
    "        'house num' : 'baba',\n",
    "        'city' : 'rhodes',\n",
    "        'street' : 'nepal',\n",
    "    }\n",
    "}\n",
    "print(rajesh)\n",
    "#javascript mei dictionary ko jayson kehte hai\n",
    "#php mei associatuve array\n",
    "#java aur c mei hash map kehte hain"
   ]
  },
  {
   "cell_type": "code",
   "execution_count": 4,
   "metadata": {},
   "outputs": [
    {
     "name": "stdout",
     "output_type": "stream",
     "text": [
      "aloo\n",
      "400\n",
      "{'house num': 'baba', 'city': 'rhodes', 'street': 'nepal'}\n",
      "rhodes\n"
     ]
    }
   ],
   "source": [
    "print(rajesh['first name'])#jab dictionary mei use karte ho acess karne to uski key daalke tumko uski value milegi\n",
    "print(rajesh['age'])\n",
    "print(rajesh['adress'])\n",
    "print(rajesh['adress']['city'])"
   ]
  },
  {
   "cell_type": "code",
   "execution_count": 5,
   "metadata": {},
   "outputs": [
    {
     "name": "stdout",
     "output_type": "stream",
     "text": [
      "aloo\n",
      "None\n",
      "not found\n"
     ]
    }
   ],
   "source": [
    "print(rajesh.get('first name')) #get use tab karte hai jab humko program mei crash na ho aur agar key na ho to wo by default none dede\n",
    "print(rajesh.get('middle name'))\n",
    "print(rajesh.get('middle name', 'not found'))"
   ]
  },
  {
   "cell_type": "code",
   "execution_count": 6,
   "metadata": {},
   "outputs": [
    {
     "name": "stdout",
     "output_type": "stream",
     "text": [
      "{'first name': 'aloo', 'last name': 'pahadi', 'age': 500, 'adress': {'house num': 'baba', 'city': 'rhodes', 'street': 'nepal'}}\n"
     ]
    }
   ],
   "source": [
    "#value updating\n",
    "rajesh['age'] = 500\n",
    "print(rajesh)"
   ]
  },
  {
   "cell_type": "code",
   "execution_count": 8,
   "metadata": {},
   "outputs": [
    {
     "name": "stdout",
     "output_type": "stream",
     "text": [
      "{'first name': 'aloo', 'last name': 'pahadi', 'age': 500, 'adress': {'house num': 'baba', 'city': 'rhodes', 'street': 'nepal', 'country': 'nigeria'}, 'middle': 'chinga', 'phone': '12345678'}\n"
     ]
    }
   ],
   "source": [
    "rajesh['middle'] = 'chinga'\n",
    "rajesh['adress']['country'] = 'nigeria'\n",
    "rajesh['phone'] = '12345678'\n",
    "print(rajesh)"
   ]
  },
  {
   "cell_type": "code",
   "execution_count": 10,
   "metadata": {},
   "outputs": [
    {
     "ename": "KeyError",
     "evalue": "'middle'",
     "output_type": "error",
     "traceback": [
      "\u001b[1;31m---------------------------------------------------------------------------\u001b[0m",
      "\u001b[1;31mKeyError\u001b[0m                                  Traceback (most recent call last)",
      "Cell \u001b[1;32mIn[10], line 1\u001b[0m\n\u001b[1;32m----> 1\u001b[0m rajesh\u001b[39m.\u001b[39;49mpop(\u001b[39m'\u001b[39;49m\u001b[39mmiddle\u001b[39;49m\u001b[39m'\u001b[39;49m)\n",
      "\u001b[1;31mKeyError\u001b[0m: 'middle'"
     ]
    }
   ],
   "source": [
    "rajesh.pop('middle')#agar isko ek aur baar chalaoge to wo error dedega kyuki value to delete ho chuki "
   ]
  },
  {
   "cell_type": "code",
   "execution_count": 13,
   "metadata": {},
   "outputs": [
    {
     "name": "stdout",
     "output_type": "stream",
     "text": [
      "dict_keys(['first name', 'last name', 'age', 'adress', 'phone'])\n",
      "dict_values(['aloo', 'pahadi', 500, {'house num': 'baba', 'city': 'rhodes', 'street': 'nepal', 'country': 'nigeria'}, '12345678'])\n",
      "dict_items([('first name', 'aloo'), ('last name', 'pahadi'), ('age', 500), ('adress', {'house num': 'baba', 'city': 'rhodes', 'street': 'nepal', 'country': 'nigeria'}), ('phone', '12345678')])\n"
     ]
    }
   ],
   "source": [
    "print(rajesh.keys())\n",
    "print(rajesh.values())\n",
    "print(rajesh.items())#key value pairs mei print hoga"
   ]
  },
  {
   "cell_type": "code",
   "execution_count": 16,
   "metadata": {},
   "outputs": [
    {
     "name": "stdout",
     "output_type": "stream",
     "text": [
      "first name\n",
      "last name\n",
      "age\n",
      "adress\n",
      "phone\n"
     ]
    }
   ],
   "source": [
    "for value in rajesh: \n",
    "    print(value)#by default yw loop key deta hai"
   ]
  },
  {
   "cell_type": "code",
   "execution_count": 17,
   "metadata": {},
   "outputs": [
    {
     "name": "stdout",
     "output_type": "stream",
     "text": [
      "aloo\n",
      "pahadi\n",
      "500\n",
      "{'house num': 'baba', 'city': 'rhodes', 'street': 'nepal', 'country': 'nigeria'}\n",
      "12345678\n"
     ]
    }
   ],
   "source": [
    "for value in rajesh: \n",
    "    print(rajesh[value])\n",
    "    #sirf value milenge"
   ]
  },
  {
   "cell_type": "code",
   "execution_count": 19,
   "metadata": {},
   "outputs": [
    {
     "name": "stdout",
     "output_type": "stream",
     "text": [
      "first name : aloo\n",
      "last name : pahadi\n",
      "age : 500\n",
      "adress : {'house num': 'baba', 'city': 'rhodes', 'street': 'nepal', 'country': 'nigeria'}\n",
      "phone : 12345678\n"
     ]
    }
   ],
   "source": [
    "for k, v in rajesh.items():\n",
    "    print(k,':', v)"
   ]
  },
  {
   "cell_type": "markdown",
   "metadata": {},
   "source": []
  },
  {
   "cell_type": "code",
   "execution_count": 1,
   "metadata": {},
   "outputs": [
    {
     "name": "stdout",
     "output_type": "stream",
     "text": [
      "0\n"
     ]
    }
   ],
   "source": [
    "#create a dictionary of 5 employees inacc dept in a ACME company\n",
    "acme = { \n",
    "    'acc' : {  }\n",
    "}\n",
    "for i in range(5):\n",
    "    name = input('enter name')\n",
    "    desi = input('enter designation')\n",
    "    sal = int(input('salary'))\n",
    "    acme['acc'][f'emp{i}'] = {\n",
    "        'name' : name,\n",
    "        'designation' : desi,\n",
    "        'salary' : sal \n",
    "    }"
   ]
  },
  {
   "cell_type": "code",
   "execution_count": 8,
   "metadata": {},
   "outputs": [],
   "source": [
    "from pprint import pp"
   ]
  },
  {
   "cell_type": "code",
   "execution_count": 9,
   "metadata": {},
   "outputs": [
    {
     "name": "stdout",
     "output_type": "stream",
     "text": [
      "{'acc': {'emp0': {'name': 'sh', 'designation': 'ah', 'salary': 12},\n",
      "         'emp1': {'name': 'ajd', 'designation': 'ah', 'salary': 123},\n",
      "         'emp2': {'name': 'ahd', 'designation': 'ah', 'salary': 14},\n",
      "         'emp3': {'name': 'ad', 'designation': 'aj', 'salary': 12},\n",
      "         'emp4': {'name': 'ahd', 'designation': 'aj', 'salary': 123}}}\n"
     ]
    }
   ],
   "source": [
    "pp(acme)"
   ]
  },
  {
   "cell_type": "code",
   "execution_count": 10,
   "metadata": {},
   "outputs": [
    {
     "name": "stdout",
     "output_type": "stream",
     "text": [
      "284\n"
     ]
    }
   ],
   "source": [
    "salary = 0#jab bhi iterable ho to range na use karo but jab kuch aur logic lagri ho tabbhi range use karo\n",
    "for emp in acme['acc']:\n",
    "    salary += acme['acc'][emp]['salary']\n",
    "print(salary)"
   ]
  },
  {
   "cell_type": "code",
   "execution_count": 11,
   "metadata": {},
   "outputs": [
    {
     "name": "stdout",
     "output_type": "stream",
     "text": [
      "😘found contact\n",
      "name Police\n",
      "number 112\n",
      "😒nahi mila beta\n",
      "add contact\n",
      "contact added\n",
      "😘found contact\n",
      "name shavez\n",
      "number 690\n"
     ]
    }
   ],
   "source": [
    "#create contact dict and\n",
    "#let user check if a contact exists\n",
    "#if yes print the contact details\n",
    "#if no ask user to add it \n",
    "\n",
    "contacts = {'Police' : 112}\n",
    "while True:\n",
    "    contact_name = input ('enter cont')\n",
    "    if contact_name in contacts:\n",
    "        print('😘found contact')\n",
    "        print('name', contact_name)\n",
    "        print('number', contacts[contact_name])\n",
    "    elif contact_name == 'exit':\n",
    "        break\n",
    "    else:\n",
    "        print('😒nahi mila beta')\n",
    "        print('add contact')\n",
    "        contact_number = input('chalo number daalo')\n",
    "        contacts[contact_name] = contact_number\n",
    "        print('contact added')"
   ]
  }
 ],
 "metadata": {
  "kernelspec": {
   "display_name": "base",
   "language": "python",
   "name": "python3"
  },
  "language_info": {
   "codemirror_mode": {
    "name": "ipython",
    "version": 3
   },
   "file_extension": ".py",
   "mimetype": "text/x-python",
   "name": "python",
   "nbconvert_exporter": "python",
   "pygments_lexer": "ipython3",
   "version": "3.10.10"
  },
  "orig_nbformat": 4
 },
 "nbformat": 4,
 "nbformat_minor": 2
}
