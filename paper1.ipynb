{
 "cells": [
  {
   "cell_type": "code",
   "execution_count": 2,
   "metadata": {},
   "outputs": [
    {
     "data": {
      "text/plain": [
       "True"
      ]
     },
     "execution_count": 2,
     "metadata": {},
     "output_type": "execute_result"
    }
   ],
   "source": [
    "x = \"5\"\n",
    "y = 5\n",
    "int(x) == y"
   ]
  },
  {
   "cell_type": "code",
   "execution_count": 4,
   "metadata": {},
   "outputs": [
    {
     "name": "stdout",
     "output_type": "stream",
     "text": [
      "We have 3 fruits\n"
     ]
    }
   ],
   "source": [
    "fruits = ['banana', 'apple', 'pear']\n",
    "if fruits:\n",
    "    print(f'We have {len(fruits)} fruits')"
   ]
  },
  {
   "cell_type": "code",
   "execution_count": 7,
   "metadata": {},
   "outputs": [
    {
     "name": "stdout",
     "output_type": "stream",
     "text": [
      "['banana', ' pear', ' apple']\n"
     ]
    }
   ],
   "source": [
    "fruitstring = \"banana, pear, apple\"\n",
    "fruitlist = fruitstring.split(',')\n",
    "print(fruitlist)"
   ]
  },
  {
   "cell_type": "code",
   "execution_count": 9,
   "metadata": {},
   "outputs": [
    {
     "name": "stdout",
     "output_type": "stream",
     "text": [
      "['A', 'computer', 'would', 'be', 'called', 'intelligent', 'if', 'it', 'could', 'decieve', 'a', 'human', 'into', 'believing', 'that', 'it', 'was', 'a', 'human']\n"
     ]
    }
   ],
   "source": [
    "quotestring = \"A computer would to be called intelligent if it could decieve a human into believing that it was a human\"\n",
    "quotelist = quotestring.split(' ')\n",
    "print(quotelist)"
   ]
  },
  {
   "cell_type": "code",
   "execution_count": 14,
   "metadata": {},
   "outputs": [
    {
     "name": "stdout",
     "output_type": "stream",
     "text": [
      "False\n"
     ]
    }
   ],
   "source": [
    "numberoftwoletterwords = 0\n",
    "for word in quotelist:\n",
    "    if len(word) == 2:\n",
    "        numberoftwoletterwords += 1\n",
    "print(numberoftwoletterwords == 5)\n",
    "    "
   ]
  },
  {
   "cell_type": "code",
   "execution_count": 16,
   "metadata": {},
   "outputs": [
    {
     "name": "stdout",
     "output_type": "stream",
     "text": [
      "banana,pear,apple\n"
     ]
    }
   ],
   "source": [
    "fruitlist = ['banana', 'pear', 'apple']\n",
    "delimeter = ','\n",
    "fruitstring = delimeter.join(fruitlist)\n",
    "print (fruitstring)"
   ]
  },
  {
   "cell_type": "code",
   "execution_count": 20,
   "metadata": {},
   "outputs": [
    {
     "name": "stdout",
     "output_type": "stream",
     "text": [
      "security found at positionW\n",
      "security found at positione\n",
      "security found at position \n",
      "security found at positions\n",
      "security found at positionp\n",
      "security found at positione\n",
      "security found at positionn\n",
      "security found at positiond\n",
      "security found at position \n",
      "security found at positiono\n",
      "security found at positionu\n",
      "security found at positionr\n",
      "security found at position \n",
      "security found at positiont\n",
      "security found at positioni\n",
      "security found at positionm\n",
      "security found at positione\n",
      "security found at position \n",
      "security found at positions\n",
      "security found at positione\n",
      "security found at positiona\n",
      "security found at positionr\n",
      "security found at positionc\n",
      "security found at positionh\n",
      "security found at positioni\n",
      "security found at positionn\n",
      "security found at positiong\n",
      "security found at position \n",
      "security found at positionf\n",
      "security found at positiono\n",
      "security found at position \n",
      "security found at positions\n",
      "security found at positione\n",
      "security found at positionc\n",
      "security found at positionu\n",
      "security found at positionr\n",
      "security found at positioni\n",
      "security found at positiont\n",
      "security found at positiony\n",
      "security found at position \n",
      "security found at positiona\n",
      "security found at positionn\n",
      "security found at positiond\n",
      "security found at position \n",
      "security found at positionh\n",
      "security found at positiona\n",
      "security found at positiont\n",
      "security found at positione\n",
      "security found at position \n",
      "security found at positioni\n",
      "security found at positiont\n",
      "security found at position \n",
      "security found at positionw\n",
      "security found at positionh\n",
      "security found at positione\n",
      "security found at positionn\n",
      "security found at position \n",
      "security found at positionw\n",
      "security found at positione\n",
      "security found at position \n",
      "security found at positiong\n",
      "security found at positione\n",
      "security found at positiont\n",
      "security found at position \n",
      "security found at positioni\n",
      "security found at positiont\n"
     ]
    }
   ],
   "source": [
    "text = \"We spend our time searching fo security and hate it when we get it\"\n",
    "for word in text:\n",
    "    if found == -1:\n",
    "        print('print no security found! :(\")')\n",
    "    else:\n",
    "        print('security found at position' + str(found))"
   ]
  },
  {
   "cell_type": "code",
   "execution_count": 22,
   "metadata": {},
   "outputs": [
    {
     "name": "stdout",
     "output_type": "stream",
     "text": [
      "You can compare apples with apples\n"
     ]
    }
   ],
   "source": [
    "text = \"You cannot compare apples with pears\"\n",
    "text = text.replace(\"pears\",\"apples\")\n",
    "text = text.replace(\"not\",\"\")\n",
    "print(text)"
   ]
  },
  {
   "cell_type": "code",
   "execution_count": 23,
   "metadata": {},
   "outputs": [
    {
     "name": "stdout",
     "output_type": "stream",
     "text": [
      "Rsrch hs shwn tht t s ftn stll psslbl t ndrstnd tct vn f ll vwls r rmvd\n"
     ]
    }
   ],
   "source": [
    "text = \"Research has shown that it is often still possilble to understand tect even if all vowels are removed\"\n",
    "for vowel in ('a','e','i','o','u'):\n",
    "    text = text.replace(f\"{vowel}\",'')\n",
    "print(text)"
   ]
  },
  {
   "cell_type": "code",
   "execution_count": 25,
   "metadata": {},
   "outputs": [
    {
     "name": "stdout",
     "output_type": "stream",
     "text": [
      "strip me!\n"
     ]
    }
   ],
   "source": [
    "s = \"  strip me!  \"\n",
    "print(s.strip())"
   ]
  },
  {
   "cell_type": "code",
   "execution_count": 27,
   "metadata": {},
   "outputs": [
    {
     "name": "stdout",
     "output_type": "stream",
     "text": [
      "FOLGERT KARSDROP ABD MAARTEN\n",
      "folgert karsdrop abd maarten\n"
     ]
    }
   ],
   "source": [
    "teachers = \"Folgert karsdrop abd Maarten\"\n",
    "print(teachers.upper())\n",
    "print(teachers.lower())"
   ]
  },
  {
   "cell_type": "code",
   "execution_count": 29,
   "metadata": {},
   "outputs": [
    {
     "name": "stdout",
     "output_type": "stream",
     "text": [
      "5\n"
     ]
    }
   ],
   "source": [
    "words = ['BLA', 'plop', 'blA', 'Bla', 'PloP', 'bLa', 'plop', 'BLA']\n",
    "count = 0\n",
    "for word in words:\n",
    "    if word.lower() == \"bla\":\n",
    "        count += 1\n",
    "print(count)"
   ]
  },
  {
   "cell_type": "code",
   "execution_count": null,
   "metadata": {},
   "outputs": [],
   "source": []
  }
 ],
 "metadata": {
  "kernelspec": {
   "display_name": "base",
   "language": "python",
   "name": "python3"
  },
  "language_info": {
   "codemirror_mode": {
    "name": "ipython",
    "version": 3
   },
   "file_extension": ".py",
   "mimetype": "text/x-python",
   "name": "python",
   "nbconvert_exporter": "python",
   "pygments_lexer": "ipython3",
   "version": "3.10.10"
  },
  "orig_nbformat": 4
 },
 "nbformat": 4,
 "nbformat_minor": 2
}
