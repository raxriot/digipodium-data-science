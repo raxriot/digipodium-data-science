{
 "cells": [
  {
   "cell_type": "code",
   "execution_count": 34,
   "metadata": {},
   "outputs": [
    {
     "name": "stdout",
     "output_type": "stream",
     "text": [
      "(1, 2, 3)\n",
      "<class 'tuple'>\n"
     ]
    }
   ],
   "source": [
    "x = (1, 2, 3)\n",
    "print(x)\n",
    "print(type(x))"
   ]
  },
  {
   "cell_type": "code",
   "execution_count": 35,
   "metadata": {},
   "outputs": [
    {
     "name": "stdout",
     "output_type": "stream",
     "text": [
      "(1, 2, 3, 4)\n",
      "<class 'tuple'>\n"
     ]
    }
   ],
   "source": [
    "y = 1, 2, 3, 4 #tuple packing\n",
    "print(y)\n",
    "print(type(y))"
   ]
  },
  {
   "cell_type": "code",
   "execution_count": 36,
   "metadata": {},
   "outputs": [
    {
     "name": "stdout",
     "output_type": "stream",
     "text": [
      "(1, 2, 3, 4)\n",
      "('h', 'e', 'l', 'l', 'o')\n"
     ]
    }
   ],
   "source": [
    "z =tuple([1, 2, 3, 4]) #typecasting of iterable(list in this one,string in 2nd one) into tuple\n",
    "zs = tuple('hello')\n",
    "print(z)\n",
    "print(zs)"
   ]
  },
  {
   "cell_type": "code",
   "execution_count": 37,
   "metadata": {},
   "outputs": [
    {
     "name": "stdout",
     "output_type": "stream",
     "text": [
      "3\n",
      "0\n"
     ]
    }
   ],
   "source": [
    "#tuple functions\n",
    "x = (122, 34, 34, 45, 45, 45, 19999)\n",
    "print(x.count(45))\n",
    "print(x.index(122))"
   ]
  },
  {
   "cell_type": "code",
   "execution_count": 38,
   "metadata": {},
   "outputs": [
    {
     "name": "stdout",
     "output_type": "stream",
     "text": [
      "<class 'tuple'>\n"
     ]
    }
   ],
   "source": [
    "x =(2,)#if you put a single element into the tuple you have to put a comma after it\n",
    "print(type(x))"
   ]
  },
  {
   "cell_type": "code",
   "execution_count": 39,
   "metadata": {},
   "outputs": [
    {
     "data": {
      "text/plain": [
       "(1, 2, 3, 4)"
      ]
     },
     "execution_count": 39,
     "metadata": {},
     "output_type": "execute_result"
    }
   ],
   "source": [
    "y"
   ]
  },
  {
   "cell_type": "code",
   "execution_count": 40,
   "metadata": {},
   "outputs": [
    {
     "name": "stdout",
     "output_type": "stream",
     "text": [
      "(1, 2, 3, 4)\n",
      "1 2 3 4\n"
     ]
    }
   ],
   "source": [
    "a = y \n",
    "print(a)\n",
    "a, b, c, d = y #this is called tuple unpacking ismei jab tum jitte element tuple mei ho utte variables equate kardoge tuple ke variable se to element ki value unn variable mei chali jaengi\n",
    "print(a, b, c, d)\n",
    "# a , b = y too many values to unpack(expected 2 more)\n",
    "# a, b, c, d, e = y lesss values to unpack(expected 4 got 5)"
   ]
  },
  {
   "cell_type": "code",
   "execution_count": 41,
   "metadata": {},
   "outputs": [
    {
     "name": "stdout",
     "output_type": "stream",
     "text": [
      "1 2 [3, 4]\n",
      "1 [2, 3, 4]\n",
      "1 [2, 3] 4\n"
     ]
    }
   ],
   "source": [
    "a , b, *c =  y #agar tum variable ke saath * laga dete ho to tuple ki remaining values uss * waale variable mei chali jaengi\n",
    "print(a, b, c)\n",
    "a, *b = y \n",
    "print(a, b)\n",
    "a, *b, c = y \n",
    "print(a, b, c)"
   ]
  },
  {
   "cell_type": "markdown",
   "metadata": {},
   "source": [
    "## set"
   ]
  },
  {
   "cell_type": "code",
   "execution_count": 42,
   "metadata": {},
   "outputs": [
    {
     "name": "stdout",
     "output_type": "stream",
     "text": [
      "{1, 2, 3, 4, 5, 6, 7, 8, 9}\n"
     ]
    }
   ],
   "source": [
    "x = {1, 4, 6, 3, 2, 5, 9, 8, 7}\n",
    "print(x)"
   ]
  },
  {
   "cell_type": "code",
   "execution_count": 43,
   "metadata": {},
   "outputs": [
    {
     "name": "stdout",
     "output_type": "stream",
     "text": [
      "{'apple', 'mango', 'banana', 'peat', 'orange'}\n",
      "{1, 2}\n"
     ]
    }
   ],
   "source": [
    "fruits = {'apple', 'apple', 'apple', 'orange', 'orange', 'mango', 'mango', 'mango', 'peat', 'banana'}\n",
    "print(fruits)\n",
    "num = {1, 1, 2, 2}\n",
    "print(num)\n",
    "#sets mei repeated elements ni print hote"
   ]
  },
  {
   "cell_type": "code",
   "execution_count": 44,
   "metadata": {},
   "outputs": [
    {
     "name": "stdout",
     "output_type": "stream",
     "text": [
      "{'mango', 'banana', 'peat', 'orange'}\n"
     ]
    }
   ],
   "source": [
    "fruits.discard('apple')\n",
    "print(fruits)"
   ]
  },
  {
   "cell_type": "code",
   "execution_count": 49,
   "metadata": {},
   "outputs": [],
   "source": [
    "a = {1, 2, 3, 8, 9, 0}\n",
    "b = {2, 4, 6, 8, 10}\n",
    "c = {3, 7, 9, 11, 15}\n",
    "d = {12, 14, 16, 18, 14}"
   ]
  },
  {
   "cell_type": "code",
   "execution_count": 46,
   "metadata": {},
   "outputs": [
    {
     "name": "stdout",
     "output_type": "stream",
     "text": [
      "{0, 1, 2, 3, 4, 6, 8, 9, 10}\n"
     ]
    }
   ],
   "source": [
    "a|b#union\n",
    "print(a.union(b))"
   ]
  },
  {
   "cell_type": "code",
   "execution_count": 47,
   "metadata": {},
   "outputs": [
    {
     "name": "stdout",
     "output_type": "stream",
     "text": [
      "{9, 3}\n"
     ]
    }
   ],
   "source": [
    "print(a & c)#intersection"
   ]
  },
  {
   "cell_type": "code",
   "execution_count": 50,
   "metadata": {},
   "outputs": [
    {
     "name": "stdout",
     "output_type": "stream",
     "text": [
      "{10, 4, 6}\n"
     ]
    }
   ],
   "source": [
    "print(b - a) #difference"
   ]
  },
  {
   "cell_type": "code",
   "execution_count": 51,
   "metadata": {},
   "outputs": [
    {
     "name": "stdout",
     "output_type": "stream",
     "text": [
      "{0, 1, 3, 4, 6, 9, 10}\n"
     ]
    }
   ],
   "source": [
    "print(b ^ a) #symmetric difference"
   ]
  },
  {
   "cell_type": "code",
   "execution_count": 52,
   "metadata": {},
   "outputs": [
    {
     "name": "stdout",
     "output_type": "stream",
     "text": [
      "False\n",
      "False\n",
      "True\n"
     ]
    }
   ],
   "source": [
    "print(b.issuperset(a))\n",
    "print(a.issubset(b))\n",
    "print(a.isdisjoint(d))"
   ]
  }
 ],
 "metadata": {
  "kernelspec": {
   "display_name": "base",
   "language": "python",
   "name": "python3"
  },
  "language_info": {
   "codemirror_mode": {
    "name": "ipython",
    "version": 3
   },
   "file_extension": ".py",
   "mimetype": "text/x-python",
   "name": "python",
   "nbconvert_exporter": "python",
   "pygments_lexer": "ipython3",
   "version": "3.10.10"
  },
  "orig_nbformat": 4
 },
 "nbformat": 4,
 "nbformat_minor": 2
}
