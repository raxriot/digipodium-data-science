{
 "cells": [
  {
   "cell_type": "code",
   "execution_count": null,
   "metadata": {},
   "outputs": [],
   "source": []
  },
  {
   "cell_type": "markdown",
   "metadata": {},
   "source": [
    "## data structure\n",
    "- list = indexed, ordered, mutible, rpresetation [] imp\n",
    "- tuple = indexed, ordered, immutable, ()\n",
    "- set = unindexed, unordered, no duplicates, {} \n",
    "- dictionary = unindexed, key value pairs, mutable, { } imp"
   ]
  },
  {
   "cell_type": "code",
   "execution_count": 2,
   "metadata": {},
   "outputs": [],
   "source": [
    "# creating list\n",
    "x = []#empty list\n",
    "y = [ 1, 2, 3, 4, 5]#list of integers\n",
    "z = ['sunday', 'monday', 'milkday']\n",
    "grocery = ['milk', 59 , 'bread', 20, 'baa',22]\n",
    "info = [[1,2,3],[1,2,3],[1,2,3],[1,2,3]]#nested\n",
    "a = [1]*15 #list of 15 elements which all are 1"
   ]
  },
  {
   "cell_type": "code",
   "execution_count": 3,
   "metadata": {},
   "outputs": [
    {
     "name": "stdout",
     "output_type": "stream",
     "text": [
      "[10, 12, 2, 4]\n"
     ]
    }
   ],
   "source": [
    "x.append(10)#to add in list\n",
    "for i in range(3):\n",
    "    val = int(input('num'))\n",
    "    x.append(val)\n",
    "print(x)\n",
    "#list mei 11 functions hote hai"
   ]
  },
  {
   "cell_type": "code",
   "execution_count": 4,
   "metadata": {},
   "outputs": [],
   "source": [
    "del info#will delete that list"
   ]
  },
  {
   "cell_type": "code",
   "execution_count": 5,
   "metadata": {},
   "outputs": [
    {
     "name": "stdout",
     "output_type": "stream",
     "text": [
      "10 12 2\n",
      "[10, 12]\n",
      "[4, 2, 12, 10]\n",
      "[12, 2, 4]\n"
     ]
    }
   ],
   "source": [
    "print(x[0],x[1],x[2]) #starting index to ast index dedega\n",
    "print(x[:2])#slicing first two elements\n",
    "print(x[::-1])#reversing\n",
    "print(x[-3:])#slicing last 3 elements"
   ]
  },
  {
   "cell_type": "code",
   "execution_count": 6,
   "metadata": {},
   "outputs": [
    {
     "name": "stdout",
     "output_type": "stream",
     "text": [
      "10 12 2 4 "
     ]
    }
   ],
   "source": [
    "for i in x:\n",
    "    print(i , end=' ')"
   ]
  },
  {
   "cell_type": "markdown",
   "metadata": {},
   "source": [
    "- list functions\n",
    "   - add \n",
    "        - append() = add single item to the end\n",
    "        - insert() = insert single item at given index\n",
    "        - extend() = merge a list to an existing list\n",
    "   - remove \n",
    "       - remove() - remove single item by value\n",
    "       - pop() - remove singe item by index\n",
    "       - clear() - remove all items\n",
    "   - utility \n",
    "        - index() - find index of items by value\n",
    "        - count() - count repeated items\n",
    "        - sort() - sort items\n",
    "        - reverse() - reverse items\n",
    "        - copy() - copy list"
   ]
  },
  {
   "cell_type": "code",
   "execution_count": 7,
   "metadata": {},
   "outputs": [
    {
     "data": {
      "text/plain": [
       "['oggy', 'poggy', 'doggy']"
      ]
     },
     "execution_count": 7,
     "metadata": {},
     "output_type": "execute_result"
    }
   ],
   "source": [
    "books = [] #empty list\n",
    "books.append('oggy')\n",
    "books.append('poggy')\n",
    "books.append('doggy')\n",
    "books"
   ]
  },
  {
   "cell_type": "code",
   "execution_count": 8,
   "metadata": {},
   "outputs": [
    {
     "data": {
      "text/plain": [
       "['oggy', 'harry potter', 'poggy', 'doggy']"
      ]
     },
     "execution_count": 8,
     "metadata": {},
     "output_type": "execute_result"
    }
   ],
   "source": [
    "books.insert(1, 'harry potter') #1 index wala 2nd pe chala jaega and list mei ek jagha add ho jaegi\n",
    "books"
   ]
  },
  {
   "cell_type": "code",
   "execution_count": 9,
   "metadata": {},
   "outputs": [
    {
     "data": {
      "text/plain": [
       "['oggy', 'harry potter', 'goblet of fire', 'doggy']"
      ]
     },
     "execution_count": 9,
     "metadata": {},
     "output_type": "execute_result"
    }
   ],
   "source": [
    "books [2] = 'goblet of fire' #way for replacement\n",
    "books"
   ]
  },
  {
   "cell_type": "code",
   "execution_count": 10,
   "metadata": {},
   "outputs": [],
   "source": [
    "old_books = ['after', 'culpa mia', 'fault in our stars', 'the jungle book']\n",
    "books.extend(old_books)\n"
   ]
  },
  {
   "cell_type": "code",
   "execution_count": 11,
   "metadata": {},
   "outputs": [
    {
     "name": "stdout",
     "output_type": "stream",
     "text": [
      "['oggy', 'harry potter', 'goblet of fire', 'doggy', 'after', 'culpa mia', 'fault in our stars', 'the jungle book']\n"
     ]
    }
   ],
   "source": [
    "print(books)"
   ]
  },
  {
   "cell_type": "code",
   "execution_count": 12,
   "metadata": {},
   "outputs": [
    {
     "name": "stdout",
     "output_type": "stream",
     "text": [
      "['oggy', 'harry potter', 'goblet of fire', 'doggy', 'after', 'culpa mia', 'fault in our stars']\n"
     ]
    }
   ],
   "source": [
    "if 'the jungle book' in books:\n",
    "    books.remove('the jungle book')#only removes the first occurance\n",
    "print(books)"
   ]
  },
  {
   "cell_type": "code",
   "execution_count": 13,
   "metadata": {},
   "outputs": [
    {
     "data": {
      "text/plain": [
       "'after'"
      ]
     },
     "execution_count": 13,
     "metadata": {},
     "output_type": "execute_result"
    }
   ],
   "source": [
    "books.pop(4)"
   ]
  },
  {
   "cell_type": "code",
   "execution_count": 14,
   "metadata": {},
   "outputs": [
    {
     "name": "stdout",
     "output_type": "stream",
     "text": [
      "['oggy', 'harry potter', 'goblet of fire', 'doggy', 'culpa mia', 'fault in our stars']\n"
     ]
    }
   ],
   "source": [
    "print(books)"
   ]
  },
  {
   "cell_type": "code",
   "execution_count": 15,
   "metadata": {},
   "outputs": [
    {
     "name": "stdout",
     "output_type": "stream",
     "text": [
      "['oggy', 'harry potter', 'goblet of fire', 'doggy', 'culpa mia']\n"
     ]
    }
   ],
   "source": [
    "books.pop()#removes last element by default\n",
    "print(books)"
   ]
  },
  {
   "cell_type": "code",
   "execution_count": 16,
   "metadata": {},
   "outputs": [
    {
     "data": {
      "text/plain": [
       "[]"
      ]
     },
     "execution_count": 16,
     "metadata": {},
     "output_type": "execute_result"
    }
   ],
   "source": [
    "books.clear()#to empty list\n",
    "books"
   ]
  },
  {
   "cell_type": "code",
   "execution_count": 17,
   "metadata": {},
   "outputs": [
    {
     "data": {
      "text/plain": [
       "['The Shawshank Redemption (1994)',\n",
       " 'The Godfather (1972)',\n",
       " 'Pulp Fiction (1994)',\n",
       " 'The Dark Knight (2008)',\n",
       " 'Fight Club (1999)',\n",
       " 'The Lord of the Rings trilogy (2001-2003)',\n",
       " 'Forrest Gump (1994)',\n",
       " 'Inception (2010)',\n",
       " 'Goodfellas (1990)',\n",
       " 'The Matrix (1999)',\n",
       " \"Schindler's List (1993)\",\n",
       " 'The Silence of the Lambs (1991)',\n",
       " 'The Departed (2006)',\n",
       " 'Interstellar (2014)',\n",
       " 'Seven (1995)',\n",
       " 'The Prestige (2006)',\n",
       " 'Gladiator (2000)',\n",
       " 'The Social Network (2010)',\n",
       " 'The Lion King (1994)',\n",
       " 'Eternal Sunshine of the Spotless Mind (2004)',\n",
       " 'The Grand Budapest Hotel (2014)',\n",
       " 'Whiplash (2014)',\n",
       " 'Arrival (2016)',\n",
       " 'Parasite (2019)',\n",
       " 'La La Land (2016)']"
      ]
     },
     "execution_count": 17,
     "metadata": {},
     "output_type": "execute_result"
    }
   ],
   "source": [
    "kachra = '''The Shawshank Redemption (1994)\n",
    "The Godfather (1972)\n",
    "Pulp Fiction (1994)\n",
    "The Dark Knight (2008)\n",
    "Fight Club (1999)\n",
    "The Lord of the Rings trilogy (2001-2003)\n",
    "Forrest Gump (1994)\n",
    "Inception (2010)\n",
    "Goodfellas (1990)\n",
    "The Matrix (1999)\n",
    "Schindler's List (1993)\n",
    "The Silence of the Lambs (1991)\n",
    "The Departed (2006)\n",
    "Interstellar (2014)\n",
    "Seven (1995)\n",
    "The Prestige (2006)\n",
    "Gladiator (2000)\n",
    "The Social Network (2010)\n",
    "The Lion King (1994)\n",
    "Eternal Sunshine of the Spotless Mind (2004)\n",
    "The Grand Budapest Hotel (2014)\n",
    "Whiplash (2014)\n",
    "Arrival (2016)\n",
    "Parasite (2019)\n",
    "La La Land (2016)'''\n",
    "movies = kachra.splitlines()\n",
    "movies"
   ]
  },
  {
   "cell_type": "code",
   "execution_count": 18,
   "metadata": {},
   "outputs": [
    {
     "data": {
      "text/plain": [
       "['Arrival (2016)',\n",
       " 'Eternal Sunshine of the Spotless Mind (2004)',\n",
       " 'Fight Club (1999)',\n",
       " 'Forrest Gump (1994)',\n",
       " 'Gladiator (2000)',\n",
       " 'Goodfellas (1990)',\n",
       " 'Inception (2010)',\n",
       " 'Interstellar (2014)',\n",
       " 'La La Land (2016)',\n",
       " 'Parasite (2019)',\n",
       " 'Pulp Fiction (1994)',\n",
       " \"Schindler's List (1993)\",\n",
       " 'Seven (1995)',\n",
       " 'The Dark Knight (2008)',\n",
       " 'The Departed (2006)',\n",
       " 'The Godfather (1972)',\n",
       " 'The Grand Budapest Hotel (2014)',\n",
       " 'The Lion King (1994)',\n",
       " 'The Lord of the Rings trilogy (2001-2003)',\n",
       " 'The Matrix (1999)',\n",
       " 'The Prestige (2006)',\n",
       " 'The Shawshank Redemption (1994)',\n",
       " 'The Silence of the Lambs (1991)',\n",
       " 'The Social Network (2010)',\n",
       " 'Whiplash (2014)']"
      ]
     },
     "execution_count": 18,
     "metadata": {},
     "output_type": "execute_result"
    }
   ],
   "source": [
    "movies.sort()\n",
    "movies"
   ]
  },
  {
   "cell_type": "code",
   "execution_count": 19,
   "metadata": {},
   "outputs": [
    {
     "data": {
      "text/plain": [
       "['Whiplash (2014)',\n",
       " 'The Social Network (2010)',\n",
       " 'The Silence of the Lambs (1991)',\n",
       " 'The Shawshank Redemption (1994)',\n",
       " 'The Prestige (2006)',\n",
       " 'The Matrix (1999)',\n",
       " 'The Lord of the Rings trilogy (2001-2003)',\n",
       " 'The Lion King (1994)',\n",
       " 'The Grand Budapest Hotel (2014)',\n",
       " 'The Godfather (1972)',\n",
       " 'The Departed (2006)',\n",
       " 'The Dark Knight (2008)',\n",
       " 'Seven (1995)',\n",
       " \"Schindler's List (1993)\",\n",
       " 'Pulp Fiction (1994)',\n",
       " 'Parasite (2019)',\n",
       " 'La La Land (2016)',\n",
       " 'Interstellar (2014)',\n",
       " 'Inception (2010)',\n",
       " 'Goodfellas (1990)',\n",
       " 'Gladiator (2000)',\n",
       " 'Forrest Gump (1994)',\n",
       " 'Fight Club (1999)',\n",
       " 'Eternal Sunshine of the Spotless Mind (2004)',\n",
       " 'Arrival (2016)']"
      ]
     },
     "execution_count": 19,
     "metadata": {},
     "output_type": "execute_result"
    }
   ],
   "source": [
    "movies.sort(reverse= True)\n",
    "movies"
   ]
  },
  {
   "cell_type": "code",
   "execution_count": 20,
   "metadata": {},
   "outputs": [
    {
     "data": {
      "text/plain": [
       "0"
      ]
     },
     "execution_count": 20,
     "metadata": {},
     "output_type": "execute_result"
    }
   ],
   "source": [
    "movies.index('Whiplash (2014)')"
   ]
  },
  {
   "cell_type": "code",
   "execution_count": 21,
   "metadata": {},
   "outputs": [
    {
     "data": {
      "text/plain": [
       "6"
      ]
     },
     "execution_count": 21,
     "metadata": {},
     "output_type": "execute_result"
    }
   ],
   "source": [
    "x = [1,2,2,3,3,3,4,4,4,4,4,5,5,5,5,5,5]\n",
    "x.count(5)"
   ]
  },
  {
   "cell_type": "code",
   "execution_count": 22,
   "metadata": {},
   "outputs": [
    {
     "data": {
      "text/plain": [
       "['Whiplash (2014)',\n",
       " 'The Social Network (2010)',\n",
       " 'The Silence of the Lambs (1991)',\n",
       " 'The Shawshank Redemption (1994)',\n",
       " 'The Prestige (2006)',\n",
       " 'The Matrix (1999)',\n",
       " 'The Lord of the Rings trilogy (2001-2003)',\n",
       " 'The Lion King (1994)',\n",
       " 'The Grand Budapest Hotel (2014)',\n",
       " 'The Godfather (1972)',\n",
       " 'The Departed (2006)',\n",
       " 'The Dark Knight (2008)',\n",
       " 'Seven (1995)',\n",
       " \"Schindler's List (1993)\",\n",
       " 'Pulp Fiction (1994)',\n",
       " 'Parasite (2019)',\n",
       " 'La La Land (2016)',\n",
       " 'Interstellar (2014)',\n",
       " 'Inception (2010)',\n",
       " 'Goodfellas (1990)',\n",
       " 'Gladiator (2000)',\n",
       " 'Forrest Gump (1994)',\n",
       " 'Fight Club (1999)',\n",
       " 'Eternal Sunshine of the Spotless Mind (2004)',\n",
       " 'Arrival (2016)']"
      ]
     },
     "execution_count": 22,
     "metadata": {},
     "output_type": "execute_result"
    }
   ],
   "source": [
    "movies_bk = movies.copy()#copies list into new memory location\n",
    "movies_bk"
   ]
  }
 ],
 "metadata": {
  "kernelspec": {
   "display_name": "base",
   "language": "python",
   "name": "python3"
  },
  "language_info": {
   "codemirror_mode": {
    "name": "ipython",
    "version": 3
   },
   "file_extension": ".py",
   "mimetype": "text/x-python",
   "name": "python",
   "nbconvert_exporter": "python",
   "pygments_lexer": "ipython3",
   "version": "3.10.10"
  },
  "orig_nbformat": 4
 },
 "nbformat": 4,
 "nbformat_minor": 2
}
