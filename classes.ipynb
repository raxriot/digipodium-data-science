{
 "cells": [
  {
   "cell_type": "code",
   "execution_count": 13,
   "metadata": {},
   "outputs": [],
   "source": [
    "class cat:#pass is a keyword if you don't want anything in your class\n",
    "    def __init__(self, breed, age, color): #__init__ is a dunder function, self is a keyword to define that init is part of cat\n",
    "      self.breed = breed\n",
    "      self.age = age\n",
    "      self.color = color"
   ]
  },
  {
   "cell_type": "code",
   "execution_count": 14,
   "metadata": {},
   "outputs": [
    {
     "name": "stdout",
     "output_type": "stream",
     "text": [
      "stray\n"
     ]
    }
   ],
   "source": [
    "abu = cat('stray', 23, 'stripened')\n",
    "sheru = cat('tiger', 4, 'bengali')\n",
    "print(abu.breed)"
   ]
  }
 ],
 "metadata": {
  "kernelspec": {
   "display_name": "base",
   "language": "python",
   "name": "python3"
  },
  "language_info": {
   "codemirror_mode": {
    "name": "ipython",
    "version": 3
   },
   "file_extension": ".py",
   "mimetype": "text/x-python",
   "name": "python",
   "nbconvert_exporter": "python",
   "pygments_lexer": "ipython3",
   "version": "3.10.10"
  },
  "orig_nbformat": 4
 },
 "nbformat": 4,
 "nbformat_minor": 2
}
