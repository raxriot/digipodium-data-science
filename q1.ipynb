{
 "cells": [
  {
   "cell_type": "code",
   "execution_count": 1,
   "metadata": {},
   "outputs": [
    {
     "name": "stdout",
     "output_type": "stream",
     "text": [
      "1\n",
      "2\n",
      "3\n",
      "4\n",
      "5\n",
      "6\n",
      "7\n",
      "8\n",
      "9\n",
      "10\n"
     ]
    }
   ],
   "source": [
    "##Write a program to print numbers from 1 to 10 using a for loop.\n",
    "\n",
    "for i in range(1 ,11):\n",
    "    print(i)"
   ]
  },
  {
   "cell_type": "code",
   "execution_count": 2,
   "metadata": {},
   "outputs": [
    {
     "name": "stdout",
     "output_type": "stream",
     "text": [
      "0\n",
      "2\n",
      "4\n",
      "6\n",
      "8\n",
      "10\n",
      "12\n",
      "14\n",
      "16\n",
      "18\n",
      "20\n"
     ]
    }
   ],
   "source": [
    "##Write a program to print the multiplication table of a given number using a while loop.\n",
    "num = int(input('input the number of which the table you want'))\n",
    "table = 0 \n",
    "while (table < 11):\n",
    "    tables = num * table\n",
    "    table = table + 1\n",
    "    print(tables)\n"
   ]
  },
  {
   "cell_type": "code",
   "execution_count": 7,
   "metadata": {},
   "outputs": [
    {
     "name": "stdout",
     "output_type": "stream",
     "text": [
      "2550\n"
     ]
    }
   ],
   "source": [
    " ##Write a program to find the sum of all even numbers between 1 and 100 using a for loop.\n",
    "##for se idk how to do\n",
    "num = 1\n",
    "sum = 0\n",
    "while(num<101):\n",
    "    if num % 2 == 0:\n",
    "        sum = sum + num\n",
    "    num = num + 1\n",
    "\n",
    "print(sum)    "
   ]
  },
  {
   "cell_type": "code",
   "execution_count": 9,
   "metadata": {},
   "outputs": [
    {
     "name": "stdout",
     "output_type": "stream",
     "text": [
      "prime\n"
     ]
    }
   ],
   "source": [
    "#Write a program to check if a given number is prime or not using a while loop. how to do with while?\n",
    "num = int(input('number to be checked'))\n",
    "for i in range(2, num):\n",
    "    if num%i == 0:\n",
    "        print('not a prime')\n",
    "        break\n",
    "else:\n",
    "    print('prime')\n",
    "    \n"
   ]
  },
  {
   "cell_type": "code",
   "execution_count": 12,
   "metadata": {},
   "outputs": [
    {
     "name": "stdout",
     "output_type": "stream",
     "text": [
      "119622220865480194561963161495657715064383733760000000000\n"
     ]
    }
   ],
   "source": [
    "#Write a program to calculate the factorial of a number using a for loop.\n",
    "num = int(input('number to be checked'))\n",
    "fact=1\n",
    "while (num!=0):\n",
    "    fact = fact*num\n",
    "    num = num - 1\n",
    "print(fact)"
   ]
  },
  {
   "cell_type": "markdown",
   "metadata": {},
   "source": [
    "##fibonacci wala sir se poochna"
   ]
  },
  {
   "cell_type": "code",
   "execution_count": 24,
   "metadata": {},
   "outputs": [
    {
     "name": "stdout",
     "output_type": "stream",
     "text": [
      "677\n"
     ]
    }
   ],
   "source": [
    "##Write a program to find the largest element in an array using a for loop.\n",
    "num_list = [1 ,2 , 677 , 4, 5]\n",
    "max = num_list[0]\n",
    "for i in range(0, len(num_list)):\n",
    "    if max < num_list[i]:\n",
    "        max = num_list[i]\n",
    "print(max)"
   ]
  },
  {
   "cell_type": "code",
   "execution_count": 7,
   "metadata": {},
   "outputs": [],
   "source": [
    "#Write a program to reverse a given string using a while loop.\n",
    "St = input('give the string')\n",
    "i = len(St)-1\n",
    "rev = ''\n",
    "while(i != -1):\n",
    "    i = i-1\n",
    "    print(f'{rev}',end=\"\")\n"
   ]
  },
  {
   "cell_type": "code",
   "execution_count": 6,
   "metadata": {},
   "outputs": [
    {
     "name": "stdout",
     "output_type": "stream",
     "text": [
      "shavez is not a palindrome as its reverse is: zevahs\n"
     ]
    }
   ],
   "source": [
    "#Write a program to check if a given string is a palindrome using a while loop.#don't know how to do with while\n",
    "Palin_name = input('string to be checked')\n",
    "Palin_name_rev = Palin_name[::-1]  \n",
    "if Palin_name == Palin_name_rev:\n",
    "    print(Palin_name, 'is a palindrome')\n",
    "else:\n",
    "     print(Palin_name, 'is not a palindrome as its reverse is:', Palin_name_rev) \n",
    "\n"
   ]
  },
  {
   "cell_type": "code",
   "execution_count": 2,
   "metadata": {},
   "outputs": [
    {
     "name": "stdout",
     "output_type": "stream",
     "text": [
      "65\n",
      "66\n",
      "67\n",
      "68\n",
      "69\n",
      "70\n",
      "71\n",
      "72\n",
      "73\n",
      "74\n",
      "75\n",
      "76\n",
      "77\n",
      "78\n",
      "79\n",
      "80\n",
      "81\n",
      "82\n",
      "83\n",
      "84\n",
      "85\n",
      "86\n",
      "87\n",
      "88\n",
      "89\n",
      "90\n"
     ]
    }
   ],
   "source": [
    "Uppercase_Alphabets = ['A','B','C','D','E','F','G','H','I','J','K','L','M','N','O','P','Q','R','S','T','U','V','W','X','Y','Z']\n",
    "for i in range(0, len(Uppercase_Alphabets)):\n",
    "    z = Uppercase_Alphabets[i]\n",
    "    print(ord(z)) #ord is used to convert a character(of length 1) into ASCII"
   ]
  },
  {
   "cell_type": "code",
   "execution_count": 8,
   "metadata": {},
   "outputs": [
    {
     "name": "stdout",
     "output_type": "stream",
     "text": [
      "3332\n",
      "555.33\n"
     ]
    }
   ],
   "source": [
    "#Write a program to calculate the average of a list of numbers using a for loop.\n",
    "num_list = [112, 222, 444, 666, 888, 1000]\n",
    "sum = 0\n",
    "for i in range(0, len(num_list)):\n",
    "    index_of_nums = num_list[i]\n",
    "    sum = sum + index_of_nums\n",
    "    average_of_list = round(sum / len(num_list), 2)\n",
    "print(sum)\n",
    "print(average_of_list)\n",
    "    "
   ]
  },
  {
   "cell_type": "code",
   "execution_count": 3,
   "metadata": {},
   "outputs": [
    {
     "name": "stdout",
     "output_type": "stream",
     "text": [
      "1\n"
     ]
    }
   ],
   "source": [
    "#Write a program to find the smallest element in an array using a while loop\n",
    "num_list = [122 ,2 , 677 , 1, 5]\n",
    "min = num_list[0]\n",
    "counter = 0\n",
    "while(counter < len(num_list)):\n",
    "    if min > num_list[counter]:\n",
    "        min = num_list[counter]\n",
    "    counter = counter + 1\n",
    "print(min)"
   ]
  },
  {
   "cell_type": "code",
   "execution_count": 28,
   "metadata": {},
   "outputs": [
    {
     "name": "stdout",
     "output_type": "stream",
     "text": [
      "46\n"
     ]
    }
   ],
   "source": [
    "#Write a program to calculate the sum of digits of a number using a for loop.\n",
    "number = int(input('integer to be summed'))\n",
    "sum = 0\n",
    "for digit in str(number): \n",
    "    sum = sum + int(digit)   \n",
    "print(sum) "
   ]
  },
  {
   "cell_type": "markdown",
   "metadata": {},
   "source": [
    "Write a program to check if a given year is a leap year using a while loop \n",
    "how to do this"
   ]
  },
  {
   "cell_type": "code",
   "execution_count": 30,
   "metadata": {},
   "outputs": [
    {
     "name": "stdout",
     "output_type": "stream",
     "text": [
      "3\n",
      "6\n",
      "9\n",
      "12\n",
      "15\n"
     ]
    }
   ],
   "source": [
    "#Write a program to print the multiplication table of numbers from 1 to 5 using a for loop.\n",
    "num = int(input('num'))\n",
    "for counter in range(1, 6):\n",
    "    print(num*counter)"
   ]
  },
  {
   "cell_type": "code",
   "execution_count": 6,
   "metadata": {},
   "outputs": [
    {
     "name": "stdout",
     "output_type": "stream",
     "text": [
      "4\n"
     ]
    }
   ],
   "source": [
    "#Write a program to count the number of vowels in a given string using a for loop\n",
    "ominomi = input('kuch do')\n",
    "counter = 0\n",
    "for count in ominomi:\n",
    "    if 'a' or 'e' or 'i' or 'o' or 'u' in str(count):\n",
    "        counter = counter +1\n",
    "print(counter)"
   ]
  }
 ],
 "metadata": {
  "kernelspec": {
   "display_name": "base",
   "language": "python",
   "name": "python3"
  },
  "language_info": {
   "codemirror_mode": {
    "name": "ipython",
    "version": 3
   },
   "file_extension": ".py",
   "mimetype": "text/x-python",
   "name": "python",
   "nbconvert_exporter": "python",
   "pygments_lexer": "ipython3",
   "version": "3.10.10"
  },
  "orig_nbformat": 4
 },
 "nbformat": 4,
 "nbformat_minor": 2
}
